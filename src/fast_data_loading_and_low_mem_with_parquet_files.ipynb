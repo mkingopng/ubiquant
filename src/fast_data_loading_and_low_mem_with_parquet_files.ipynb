{
 "metadata": {
  "kernelspec": {
   "language": "python",
   "display_name": "Python 3",
   "name": "python3"
  },
  "language_info": {
   "pygments_lexer": "ipython3",
   "nbconvert_exporter": "python",
   "version": "3.6.4",
   "file_extension": ".py",
   "codemirror_mode": {
    "name": "ipython",
    "version": 3
   },
   "name": "python",
   "mimetype": "text/x-python"
  }
 },
 "nbformat_minor": 4,
 "nbformat": 4,
 "cells": [
  {
   "cell_type": "markdown",
   "source": [
    "# Speed up loading by converting the dataset from CSV format to Parquet format\n",
    "- CSV files are ubiquitous, and are often entirely appropriate. \n",
    "- Hoever when we start working with large tabular datasets, CSV can become tedious, and its worth considering your options.\n",
    "- One approach might be to use a faster library than Paandas, such as POLARS or CuDF.\n",
    "- Another is to convert the CSV into a more efficient format. \n",
    "- There are many options for tabular format data, inlcuding parquet, feather, pickle, and more.\n",
    "- In this instance we'll use Parquet\n",
    "- Read about parquet files [here](https://databricks.com/glossary/what-is-parquet)\n",
    "\n",
    "## Excerpt from DataBricks:\n",
    "\n",
    "**What is Parquet?**\n",
    "\n",
    "*Parquet is an open source file format available to any project in the Hadoop ecosystem. Apache Parquet is designed for efficient as well as performant flat columnar storage format of data compared to row based files like CSV or TSV files.*\n",
    "\n",
    "*Parquet uses the record shredding and assembly algorithm which is superior to simple flattening of nested namespaces. Parquet is optimized to work with complex data in bulk and features different ways for efficient data compression and encoding types.  This approach is best especially for those queries that need to read certain columns from a large table. Parquet can only read the needed columns therefore greatly minimizing the IO.*\n",
    "\n",
    "Lets look at the performance differences below!"
   ],
   "metadata": {
    "collapsed": false
   }
  },
  {
   "cell_type": "code",
   "source": [
    "import pandas as pd\n",
    "import numpy as np\n",
    "import gc\n",
    "import time"
   ],
   "metadata": {
    "execution": {
     "iopub.status.busy": "2022-01-19T14:25:50.967423Z",
     "iopub.execute_input": "2022-01-19T14:25:50.967974Z",
     "iopub.status.idle": "2022-01-19T14:25:50.971966Z",
     "shell.execute_reply.started": "2022-01-19T14:25:50.967914Z",
     "shell.execute_reply": "2022-01-19T14:25:50.971134Z"
    },
    "trusted": true,
    "ExecuteTime": {
     "end_time": "2023-12-18T01:54:23.141711468Z",
     "start_time": "2023-12-18T01:54:23.081093844Z"
    }
   },
   "execution_count": 6,
   "outputs": []
  },
  {
   "cell_type": "markdown",
   "source": [
    "# Reading as CSV (Slow)\n"
   ],
   "metadata": {}
  },
  {
   "cell_type": "code",
   "source": [
    "%%time\n",
    "train = pd.read_csv('./../data/train.csv')"
   ],
   "metadata": {
    "execution": {
     "iopub.status.busy": "2022-01-19T14:25:50.973541Z",
     "iopub.execute_input": "2022-01-19T14:25:50.974273Z",
     "iopub.status.idle": "2022-01-19T14:25:50.982906Z",
     "shell.execute_reply.started": "2022-01-19T14:25:50.974237Z",
     "shell.execute_reply": "2022-01-19T14:25:50.982197Z"
    },
    "trusted": true,
    "ExecuteTime": {
     "end_time": "2023-12-18T01:56:28.878706025Z",
     "start_time": "2023-12-18T01:54:23.142290334Z"
    }
   },
   "execution_count": 7,
   "outputs": [
    {
     "name": "stdout",
     "output_type": "stream",
     "text": [
      "CPU times: user 1min 37s, sys: 12.2 s, total: 1min 49s\n",
      "Wall time: 2min 5s\n"
     ]
    }
   ]
  },
  {
   "cell_type": "markdown",
   "source": [
    "- the file is **18GB in size**\n",
    "- it takes 2:20s to load into memory on my computer. Times will vary.\n",
    "- This is inefficient when done repeatedly"
   ],
   "metadata": {
    "collapsed": false
   }
  },
  {
   "cell_type": "code",
   "execution_count": null,
   "outputs": [],
   "source": [
    "# convert to parquet"
   ],
   "metadata": {
    "collapsed": false
   }
  },
  {
   "cell_type": "markdown",
   "source": [
    "# Reading as Parquet (Fast)\n",
    "- **5.5GB** in size.\n",
    "- This is faster and keeps the dtypes of the original dataset."
   ],
   "metadata": {}
  },
  {
   "cell_type": "code",
   "source": [
    "%%time\n",
    "train = pd.read_parquet('./../data_parquet/train.parquet')"
   ],
   "metadata": {
    "execution": {
     "iopub.status.busy": "2022-01-19T14:25:50.983989Z",
     "iopub.execute_input": "2022-01-19T14:25:50.984778Z",
     "iopub.status.idle": "2022-01-19T14:26:40.868213Z",
     "shell.execute_reply.started": "2022-01-19T14:25:50.984734Z",
     "shell.execute_reply": "2022-01-19T14:26:40.867615Z"
    },
    "trusted": true,
    "ExecuteTime": {
     "end_time": "2023-12-18T01:57:01.675225100Z",
     "start_time": "2023-12-18T01:56:28.850273115Z"
    }
   },
   "execution_count": 8,
   "outputs": [
    {
     "name": "stdout",
     "output_type": "stream",
     "text": [
      "CPU times: user 24.1 s, sys: 38 s, total: 1min 2s\n",
      "Wall time: 32.8 s\n"
     ]
    }
   ]
  },
  {
   "cell_type": "code",
   "source": [
    "train.info()"
   ],
   "metadata": {
    "execution": {
     "iopub.status.busy": "2022-01-19T14:26:40.869399Z",
     "iopub.execute_input": "2022-01-19T14:26:40.869766Z",
     "iopub.status.idle": "2022-01-19T14:26:40.894089Z",
     "shell.execute_reply.started": "2022-01-19T14:26:40.869721Z",
     "shell.execute_reply": "2022-01-19T14:26:40.893098Z"
    },
    "trusted": true,
    "ExecuteTime": {
     "end_time": "2023-12-18T01:57:01.682908292Z",
     "start_time": "2023-12-18T01:57:01.674319644Z"
    }
   },
   "execution_count": 9,
   "outputs": [
    {
     "name": "stdout",
     "output_type": "stream",
     "text": [
      "<class 'pandas.core.frame.DataFrame'>\n",
      "RangeIndex: 3141410 entries, 0 to 3141409\n",
      "Columns: 304 entries, row_id to f_299\n",
      "dtypes: float64(301), int64(2), object(1)\n",
      "memory usage: 7.1+ GB\n"
     ]
    }
   ]
  },
  {
   "cell_type": "code",
   "source": [
    "train.dtypes"
   ],
   "metadata": {
    "execution": {
     "iopub.status.busy": "2022-01-19T14:26:40.896307Z",
     "iopub.execute_input": "2022-01-19T14:26:40.896698Z",
     "iopub.status.idle": "2022-01-19T14:26:40.905981Z",
     "shell.execute_reply.started": "2022-01-19T14:26:40.896663Z",
     "shell.execute_reply": "2022-01-19T14:26:40.905408Z"
    },
    "trusted": true,
    "ExecuteTime": {
     "end_time": "2023-12-18T01:57:01.709974002Z",
     "start_time": "2023-12-18T01:57:01.678156006Z"
    }
   },
   "execution_count": 10,
   "outputs": [
    {
     "data": {
      "text/plain": "row_id            object\ntime_id            int64\ninvestment_id      int64\ntarget           float64\nf_0              float64\n                  ...   \nf_295            float64\nf_296            float64\nf_297            float64\nf_298            float64\nf_299            float64\nLength: 304, dtype: object"
     },
     "execution_count": 10,
     "metadata": {},
     "output_type": "execute_result"
    }
   ]
  },
  {
   "cell_type": "code",
   "source": [
    "del train\n",
    "gc.collect()"
   ],
   "metadata": {
    "execution": {
     "iopub.status.busy": "2022-01-19T14:26:40.907135Z",
     "iopub.execute_input": "2022-01-19T14:26:40.90758Z",
     "iopub.status.idle": "2022-01-19T14:26:41.105102Z",
     "shell.execute_reply.started": "2022-01-19T14:26:40.907552Z",
     "shell.execute_reply": "2022-01-19T14:26:41.104409Z"
    },
    "_kg_hide-input": true,
    "_kg_hide-output": true,
    "trusted": true,
    "ExecuteTime": {
     "end_time": "2023-12-18T01:57:01.804799029Z",
     "start_time": "2023-12-18T01:57:01.802442463Z"
    }
   },
   "execution_count": 11,
   "outputs": [
    {
     "data": {
      "text/plain": "545"
     },
     "execution_count": 11,
     "metadata": {},
     "output_type": "execute_result"
    }
   ]
  },
  {
   "cell_type": "markdown",
   "source": [
    "# Reading as Parquet Low Memory (Fast & Low Mem Use)\n",
    "- **3.63GB** in size\n",
    "- Even better! Uses less memory and loads even faster!"
   ],
   "metadata": {}
  },
  {
   "cell_type": "code",
   "source": [
    "%%time\n",
    "train = pd.read_parquet('./../data_parquet/train_low_mem.parquet')"
   ],
   "metadata": {
    "execution": {
     "iopub.status.busy": "2022-01-19T14:26:52.795516Z",
     "iopub.execute_input": "2022-01-19T14:26:52.795807Z",
     "iopub.status.idle": "2022-01-19T14:27:21.454324Z",
     "shell.execute_reply.started": "2022-01-19T14:26:52.795778Z",
     "shell.execute_reply": "2022-01-19T14:27:21.453625Z"
    },
    "trusted": true,
    "ExecuteTime": {
     "end_time": "2023-12-18T01:57:28.757558084Z",
     "start_time": "2023-12-18T01:57:23.198822316Z"
    }
   },
   "execution_count": 14,
   "outputs": [
    {
     "name": "stdout",
     "output_type": "stream",
     "text": [
      "CPU times: user 15 s, sys: 18 s, total: 33 s\n",
      "Wall time: 5.56 s\n"
     ]
    }
   ]
  },
  {
   "cell_type": "code",
   "source": [
    "train.info()"
   ],
   "metadata": {
    "execution": {
     "iopub.status.busy": "2022-01-19T14:27:21.458496Z",
     "iopub.execute_input": "2022-01-19T14:27:21.459548Z",
     "iopub.status.idle": "2022-01-19T14:27:21.496784Z",
     "shell.execute_reply.started": "2022-01-19T14:27:21.459503Z",
     "shell.execute_reply": "2022-01-19T14:27:21.496016Z"
    },
    "trusted": true,
    "ExecuteTime": {
     "end_time": "2023-12-18T01:57:38.318440147Z",
     "start_time": "2023-12-18T01:57:38.275903141Z"
    }
   },
   "execution_count": 15,
   "outputs": [
    {
     "name": "stdout",
     "output_type": "stream",
     "text": [
      "<class 'pandas.core.frame.DataFrame'>\n",
      "RangeIndex: 3141410 entries, 0 to 3141409\n",
      "Columns: 304 entries, row_id to f_299\n",
      "dtypes: float32(301), object(1), uint16(2)\n",
      "memory usage: 3.6+ GB\n"
     ]
    }
   ]
  },
  {
   "cell_type": "code",
   "source": [
    "train.dtypes"
   ],
   "metadata": {
    "execution": {
     "iopub.status.busy": "2022-01-19T14:27:21.499006Z",
     "iopub.execute_input": "2022-01-19T14:27:21.499217Z",
     "iopub.status.idle": "2022-01-19T14:27:21.505682Z",
     "shell.execute_reply.started": "2022-01-19T14:27:21.499189Z",
     "shell.execute_reply": "2022-01-19T14:27:21.504867Z"
    },
    "trusted": true,
    "ExecuteTime": {
     "start_time": "2023-12-18T01:57:01.978413781Z"
    }
   },
   "execution_count": null,
   "outputs": []
  },
  {
   "cell_type": "markdown",
   "source": [
    "# Read just a single `investment_id`\n",
    "- If you only want to work with a single transaction load them like this"
   ],
   "metadata": {}
  },
  {
   "cell_type": "code",
   "source": [
    "%%time\n",
    "example = pd.read_parquet('./../data_parquet/investment_ids/529.parquet')"
   ],
   "metadata": {
    "execution": {
     "iopub.status.busy": "2022-01-19T14:27:36.935591Z",
     "iopub.execute_input": "2022-01-19T14:27:36.935883Z",
     "iopub.status.idle": "2022-01-19T14:27:37.099851Z",
     "shell.execute_reply.started": "2022-01-19T14:27:36.935855Z",
     "shell.execute_reply": "2022-01-19T14:27:37.099043Z"
    },
    "trusted": true,
    "ExecuteTime": {
     "end_time": "2023-12-18T01:57:45.780242977Z",
     "start_time": "2023-12-18T01:57:45.599741017Z"
    }
   },
   "execution_count": 16,
   "outputs": [
    {
     "name": "stdout",
     "output_type": "stream",
     "text": [
      "CPU times: user 39.9 ms, sys: 19.3 ms, total: 59.2 ms\n",
      "Wall time: 178 ms\n"
     ]
    }
   ]
  },
  {
   "cell_type": "code",
   "source": [
    "example.info()"
   ],
   "metadata": {
    "execution": {
     "iopub.status.busy": "2022-01-19T14:27:37.347637Z",
     "iopub.execute_input": "2022-01-19T14:27:37.347893Z",
     "iopub.status.idle": "2022-01-19T14:27:37.371714Z",
     "shell.execute_reply.started": "2022-01-19T14:27:37.347864Z",
     "shell.execute_reply": "2022-01-19T14:27:37.371013Z"
    },
    "trusted": true,
    "ExecuteTime": {
     "end_time": "2023-12-18T01:57:50.317644543Z",
     "start_time": "2023-12-18T01:57:50.308720239Z"
    }
   },
   "execution_count": 17,
   "outputs": [
    {
     "name": "stdout",
     "output_type": "stream",
     "text": [
      "<class 'pandas.core.frame.DataFrame'>\n",
      "Index: 1194 entries, 315 to 3138440\n",
      "Columns: 304 entries, row_id to f_299\n",
      "dtypes: float64(301), int64(2), object(1)\n",
      "memory usage: 2.8+ MB\n"
     ]
    }
   ]
  },
  {
   "cell_type": "markdown",
   "source": [
    "# Reading a Subset of Columns"
   ],
   "metadata": {}
  },
  {
   "cell_type": "code",
   "source": [
    "%%time\n",
    "col_subset = ['time_id','investment_id','target','f_1','f_2','f_3']\n",
    "train = pd.read_parquet('./../data_parquet/train.parquet', columns=col_subset)"
   ],
   "metadata": {
    "execution": {
     "iopub.status.busy": "2022-01-19T14:28:04.415453Z",
     "iopub.execute_input": "2022-01-19T14:28:04.415756Z",
     "iopub.status.idle": "2022-01-19T14:28:06.821534Z",
     "shell.execute_reply.started": "2022-01-19T14:28:04.415719Z",
     "shell.execute_reply": "2022-01-19T14:28:06.820647Z"
    },
    "trusted": true,
    "ExecuteTime": {
     "end_time": "2023-12-18T01:57:54.568270830Z",
     "start_time": "2023-12-18T01:57:54.229833219Z"
    }
   },
   "execution_count": 18,
   "outputs": [
    {
     "name": "stdout",
     "output_type": "stream",
     "text": [
      "CPU times: user 139 ms, sys: 209 ms, total: 348 ms\n",
      "Wall time: 335 ms\n"
     ]
    }
   ]
  },
  {
   "cell_type": "code",
   "source": [
    "train.info()"
   ],
   "metadata": {
    "execution": {
     "iopub.status.busy": "2022-01-19T14:28:11.632175Z",
     "iopub.execute_input": "2022-01-19T14:28:11.632916Z",
     "iopub.status.idle": "2022-01-19T14:28:11.641957Z",
     "shell.execute_reply.started": "2022-01-19T14:28:11.632871Z",
     "shell.execute_reply": "2022-01-19T14:28:11.641151Z"
    },
    "trusted": true,
    "ExecuteTime": {
     "end_time": "2023-12-18T01:57:57.867014339Z",
     "start_time": "2023-12-18T01:57:57.864100226Z"
    }
   },
   "execution_count": 19,
   "outputs": [
    {
     "name": "stdout",
     "output_type": "stream",
     "text": [
      "<class 'pandas.core.frame.DataFrame'>\n",
      "RangeIndex: 3141410 entries, 0 to 3141409\n",
      "Data columns (total 6 columns):\n",
      " #   Column         Dtype  \n",
      "---  ------         -----  \n",
      " 0   time_id        int64  \n",
      " 1   investment_id  int64  \n",
      " 2   target         float64\n",
      " 3   f_1            float64\n",
      " 4   f_2            float64\n",
      " 5   f_3            float64\n",
      "dtypes: float64(4), int64(2)\n",
      "memory usage: 143.8 MB\n"
     ]
    }
   ]
  },
  {
   "cell_type": "markdown",
   "source": [
    "# Conclusion\n",
    "When working with tabular data, IO considerations become an issue with bigger datasets. one way to deal with this is to convert older formats like CSV into more efficient modern formats like parquet, which retain datatypes and offer both smaller file size and faster read write times than CSV."
   ],
   "metadata": {
    "collapsed": false
   }
  }
 ]
}
