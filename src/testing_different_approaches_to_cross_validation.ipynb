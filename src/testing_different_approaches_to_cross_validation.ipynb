{
 "metadata": {
  "kernelspec": {
   "language": "python",
   "display_name": "Python 3",
   "name": "python3"
  },
  "language_info": {
   "pygments_lexer": "ipython3",
   "nbconvert_exporter": "python",
   "version": "3.6.4",
   "file_extension": ".py",
   "codemirror_mode": {
    "name": "ipython",
    "version": 3
   },
   "name": "python",
   "mimetype": "text/x-python"
  },
  "kaggle": {
   "accelerator": "none",
   "dataSources": [
    {
     "sourceId": 32053,
     "databundleVersionId": 4110276,
     "sourceType": "competition"
    },
    {
     "sourceId": 3064462,
     "sourceType": "datasetVersion",
     "datasetId": 1875082
    }
   ],
   "dockerImageVersionId": 30120,
   "isInternetEnabled": true,
   "language": "python",
   "sourceType": "notebook",
   "isGpuEnabled": false
  }
 },
 "nbformat_minor": 4,
 "nbformat": 4,
 "cells": [
  {
   "cell_type": "markdown",
   "source": [
    "\n",
    "With the exception of people who deploy to production on a Friday evening because YOLO, we all agree that model validation matters: measuring the performance of an ML model (and hence its generalisation power) allows us to assess the robustness, optimise parameters and estimate performance on unseen data. If there is a good reason to believe the underlying data generating process is stationary (no concept drift), you are usually fine with training-validation-test split (overfitting to validation set notwithstanding). It becomes slightly more complicated if the temporal dimension matters: in this episode we will walk through different manners of assessing performance of time series models without breaking the arrow of time.\n",
    "\n",
    "\n",
    "* [Naive Random split](#section-one)\n",
    "* [KFold](#section-two)\n",
    "* [Time Series Split (Walk forward)](#section-three)\n",
    "* [Group Time Series](#section-four)\n",
    "* [Purged Group KFold](#section-five)\n",
    "* [Combinatorial Purged Group KFold](#section-six)\n"
   ],
   "metadata": {}
  },
  {
   "cell_type": "code",
   "source": [
    "import time\n",
    "import os\n",
    "from IPython.display import Image\n",
    "import pandas as pd\n",
    "import numpy as np\n",
    "import lightgbm as lgb\n",
    "import gc\n",
    "from scipy.stats import pearsonr as p\n",
    "import matplotlib.pyplot as plt\n",
    "import warnings\n",
    "import wandb"
   ],
   "metadata": {
    "execution": {
     "iopub.status.busy": "2022-09-05T11:24:22.238562Z",
     "iopub.execute_input": "2022-09-05T11:24:22.239043Z",
     "iopub.status.idle": "2022-09-05T11:24:24.590447Z",
     "shell.execute_reply.started": "2022-09-05T11:24:22.238942Z",
     "shell.execute_reply": "2022-09-05T11:24:24.589282Z"
    },
    "trusted": true,
    "ExecuteTime": {
     "end_time": "2023-12-18T05:59:17.799819323Z",
     "start_time": "2023-12-18T05:59:17.633296875Z"
    }
   },
   "execution_count": 75,
   "outputs": []
  },
  {
   "cell_type": "code",
   "execution_count": 76,
   "outputs": [],
   "source": [
    "plt.style.use('fivethirtyeight') \n",
    "warnings.simplefilter(action='ignore', category= FutureWarning)"
   ],
   "metadata": {
    "collapsed": false,
    "ExecuteTime": {
     "end_time": "2023-12-18T05:59:17.860864057Z",
     "start_time": "2023-12-18T05:59:17.802090155Z"
    }
   }
  },
  {
   "cell_type": "code",
   "execution_count": 77,
   "outputs": [
    {
     "data": {
      "text/plain": "<IPython.core.display.HTML object>",
      "text/html": "Tracking run with wandb version 0.16.1"
     },
     "metadata": {},
     "output_type": "display_data"
    },
    {
     "data": {
      "text/plain": "<IPython.core.display.HTML object>",
      "text/html": "Run data is saved locally in <code>/home/noone/Documents/GitHub/ubiquant/src/wandb/run-20231218_155917-dfli2au3</code>"
     },
     "metadata": {},
     "output_type": "display_data"
    },
    {
     "data": {
      "text/plain": "<IPython.core.display.HTML object>",
      "text/html": "Syncing run <strong><a href='https://wandb.ai/michael_kingston/ubiquant/runs/dfli2au3' target=\"_blank\">testing_cv_methods</a></strong> to <a href='https://wandb.ai/michael_kingston/ubiquant' target=\"_blank\">Weights & Biases</a> (<a href='https://wandb.me/run' target=\"_blank\">docs</a>)<br/>"
     },
     "metadata": {},
     "output_type": "display_data"
    },
    {
     "data": {
      "text/plain": "<IPython.core.display.HTML object>",
      "text/html": " View project at <a href='https://wandb.ai/michael_kingston/ubiquant' target=\"_blank\">https://wandb.ai/michael_kingston/ubiquant</a>"
     },
     "metadata": {},
     "output_type": "display_data"
    },
    {
     "data": {
      "text/plain": "<IPython.core.display.HTML object>",
      "text/html": " View run at <a href='https://wandb.ai/michael_kingston/ubiquant/runs/dfli2au3' target=\"_blank\">https://wandb.ai/michael_kingston/ubiquant/runs/dfli2au3</a>"
     },
     "metadata": {},
     "output_type": "display_data"
    },
    {
     "data": {
      "text/html": "<button onClick=\"this.nextSibling.style.display='block';this.style.display='none';\">Display W&B run</button><iframe src='https://wandb.ai/michael_kingston/ubiquant/runs/dfli2au3?jupyter=true' style='border:none;width:100%;height:420px;display:none;'></iframe>",
      "text/plain": "<wandb.sdk.wandb_run.Run at 0x7f5219a465d0>"
     },
     "execution_count": 77,
     "metadata": {},
     "output_type": "execute_result"
    }
   ],
   "source": [
    "wandb.init(project=\"ubiquant\", name=\"testing_cv_methods\")"
   ],
   "metadata": {
    "collapsed": false,
    "ExecuteTime": {
     "end_time": "2023-12-18T05:59:18.597761058Z",
     "start_time": "2023-12-18T05:59:17.866388203Z"
    }
   }
  },
  {
   "cell_type": "code",
   "source": [
    "# global params\n",
    "class Config:\n",
    "    data_folder = './../data_parquet'\n",
    "    img_dim1 = 20\n",
    "    img_dim2 = 10\n",
    "    seed = 13\n",
    "    nfolds = 5\n",
    "    nof_trees = 150\n",
    "    cutoff_point = 1100\n",
    "    \n",
    "# adjust the parameters for displayed figures    \n",
    "plt.rcParams.update({'figure.figsize': (Config.img_dim1, Config.img_dim2)})   "
   ],
   "metadata": {
    "execution": {
     "iopub.status.busy": "2022-09-05T11:24:24.591937Z",
     "iopub.execute_input": "2022-09-05T11:24:24.592255Z",
     "iopub.status.idle": "2022-09-05T11:24:24.597774Z",
     "shell.execute_reply.started": "2022-09-05T11:24:24.592224Z",
     "shell.execute_reply": "2022-09-05T11:24:24.596657Z"
    },
    "trusted": true,
    "ExecuteTime": {
     "end_time": "2023-12-18T05:59:18.599165980Z",
     "start_time": "2023-12-18T05:59:18.596489599Z"
    }
   },
   "execution_count": 78,
   "outputs": []
  },
  {
   "cell_type": "markdown",
   "source": [
    "# reduce memory usage"
   ],
   "metadata": {
    "collapsed": false
   }
  },
  {
   "cell_type": "code",
   "source": [
    "def reduce_mem_usage(df):\n",
    "    \"\"\"\n",
    "    iterate through all the columns of a dataframe and modify the data type\n",
    "    to reduce memory usage.        \n",
    "    \"\"\"\n",
    "    start_mem = df.memory_usage().sum() / 1024 ** 2\n",
    "    print('Memory usage of dataframe is {:.2f} MB'.format(start_mem))\n",
    "    \n",
    "    for col in df.columns:\n",
    "        col_type = df[col].dtype\n",
    "        \n",
    "        if col_type != object:\n",
    "            c_min = df[col].min()\n",
    "            c_max = df[col].max()\n",
    "            if str(col_type)[:3] == 'int':\n",
    "                if c_min > np.iinfo(np.int8).min and c_max < np.iinfo(np.int8).max:\n",
    "                    df[col] = df[col].astype(np.int8)\n",
    "                elif c_min > np.iinfo(np.int16).min and c_max < np.iinfo(np.int16).max:\n",
    "                    df[col] = df[col].astype(np.int16)\n",
    "                elif c_min > np.iinfo(np.int32).min and c_max < np.iinfo(np.int32).max:\n",
    "                    df[col] = df[col].astype(np.int32)\n",
    "                elif c_min > np.iinfo(np.int64).min and c_max < np.iinfo(np.int64).max:\n",
    "                    df[col] = df[col].astype(np.int64)  \n",
    "            else:\n",
    "                if c_min > np.finfo(np.float16).min and c_max < np.finfo(np.float16).max:\n",
    "                    df[col] = df[col].astype(np.float16)\n",
    "                elif c_min > np.finfo(np.float32).min and c_max < np.finfo(np.float32).max:\n",
    "                    df[col] = df[col].astype(np.float32)\n",
    "                else:\n",
    "                    df[col] = df[col].astype(np.float64)\n",
    "        else:\n",
    "            df[col] = df[col].astype('category')\n",
    "\n",
    "    end_mem = df.memory_usage().sum() / 1024 ** 2\n",
    "    print('Memory usage after optimization is: {:.2f} MB'.format(end_mem))\n",
    "    print('Decreased by {:.1f}%'.format(100 * (start_mem - end_mem) / start_mem))\n",
    "    \n",
    "    return df"
   ],
   "metadata": {
    "_kg_hide-input": true,
    "execution": {
     "iopub.status.busy": "2022-09-05T11:24:24.599389Z",
     "iopub.execute_input": "2022-09-05T11:24:24.599824Z",
     "iopub.status.idle": "2022-09-05T11:24:24.612689Z",
     "shell.execute_reply.started": "2022-09-05T11:24:24.599781Z",
     "shell.execute_reply": "2022-09-05T11:24:24.611919Z"
    },
    "trusted": true,
    "ExecuteTime": {
     "end_time": "2023-12-18T05:59:18.783557635Z",
     "start_time": "2023-12-18T05:59:18.596588185Z"
    }
   },
   "execution_count": 79,
   "outputs": []
  },
  {
   "cell_type": "code",
   "execution_count": 80,
   "outputs": [],
   "source": [
    "# Define the callback function for logging\n",
    "def wandb_callback(env):\n",
    "    # Log metrics\n",
    "    for eval_result_tuple in env.evaluation_result_list:\n",
    "        metric_name, eval_name, value, _ = eval_result_tuple\n",
    "        wandb.log({f\"{eval_name}_{metric_name}\": value}, commit=False)\n",
    "    # Log the current iteration number\n",
    "    wandb.log({\"epoch\": env.iteration}, commit=True)"
   ],
   "metadata": {
    "collapsed": false,
    "ExecuteTime": {
     "end_time": "2023-12-18T05:59:18.790188979Z",
     "start_time": "2023-12-18T05:59:18.784629315Z"
    }
   }
  },
  {
   "cell_type": "markdown",
   "source": [
    "<a id=\"section-one\"></a>\n",
    "# Train-Test split"
   ],
   "metadata": {}
  },
  {
   "cell_type": "code",
   "execution_count": 81,
   "outputs": [
    {
     "data": {
      "text/plain": "  row_id  time_id  investment_id    target       f_0       f_1       f_2  \\\n0    0_1        0              1 -0.300875  0.932573  0.113691 -0.402206   \n1    0_2        0              2 -0.231040  0.810802 -0.514115  0.742368   \n2    0_6        0              6  0.568807  0.393974  0.615937  0.567806   \n3    0_7        0              7 -1.064780 -2.343535 -0.011870  1.874606   \n4    0_8        0              8 -0.531940  0.842057 -0.262993  2.330030   \n5    0_9        0              9  1.505904  0.608855  1.369305 -0.761515   \n6   0_10        0             10 -0.260731 -1.863797  0.113691  1.573864   \n7   0_12        0             12 -0.469207  0.408954 -0.765238  0.261430   \n8   0_13        0             13  0.094525  0.861187  2.373796 -1.148977   \n9   0_14        0             14 -0.251120 -2.476555  0.239253  2.222353   \n\n        f_3       f_4       f_5  ...     f_290     f_291     f_292     f_293  \\\n0  0.378386 -0.203938 -0.413469  ...  0.366028 -1.095620  0.200075  0.819155   \n1 -0.616673 -0.194255  1.771210  ... -0.154193  0.912726 -0.734579  0.819155   \n2 -0.607963  0.068883 -1.083155  ... -0.138020  0.912726 -0.551904 -1.220772   \n3 -0.606346 -0.586827 -0.815737  ...  0.382201  0.912726 -0.266359 -1.220772   \n4 -0.583422 -0.618392 -0.742814  ... -0.170365  0.912726 -0.741355 -1.220772   \n5  0.865860 -0.359269 -1.835762  ...  0.333684 -1.095620 -0.335999  0.819155   \n6 -0.598433 -0.569936  0.398784  ...  0.821560  0.912726  0.476309 -1.220772   \n7 -0.591895 -0.037260  0.668721  ...  0.821560 -1.095620 -0.864354 -1.220772   \n8  0.752205 -0.050502 -2.249047  ... -0.658241  0.912726  0.718282  0.819155   \n9 -0.582276 -0.618236  0.386263  ...  0.821560 -1.095620 -0.615709 -1.220772   \n\n      f_294     f_295     f_296     f_297     f_298     f_299  \n0  0.941183 -0.086764 -1.087009 -1.044826 -0.287605  0.321566  \n1  0.941183 -0.387617 -1.087009 -0.929529 -0.974060 -0.343624  \n2 -1.060166 -0.219097 -1.087009 -0.612428 -0.113944  0.243608  \n3  0.941183 -0.609113  0.104928 -0.783423  1.151730 -0.773309  \n4  0.941183 -0.588445  0.104928  0.753279  1.345611 -0.737624  \n5 -1.060166 -0.343812 -1.087009  0.077862  0.142943 -0.055550  \n6  0.941183 -0.434315  1.296864  0.171329  1.051288 -0.745335  \n7 -1.060166 -0.300218  1.296864 -0.779556  0.274961 -0.182520  \n8  0.941183  4.198117  1.296864  1.854434  0.000000 -0.688340  \n9 -1.060166 -0.647769  0.104928 -0.849789  0.805876 -0.820165  \n\n[10 rows x 304 columns]",
      "text/html": "<div>\n<style scoped>\n    .dataframe tbody tr th:only-of-type {\n        vertical-align: middle;\n    }\n\n    .dataframe tbody tr th {\n        vertical-align: top;\n    }\n\n    .dataframe thead th {\n        text-align: right;\n    }\n</style>\n<table border=\"1\" class=\"dataframe\">\n  <thead>\n    <tr style=\"text-align: right;\">\n      <th></th>\n      <th>row_id</th>\n      <th>time_id</th>\n      <th>investment_id</th>\n      <th>target</th>\n      <th>f_0</th>\n      <th>f_1</th>\n      <th>f_2</th>\n      <th>f_3</th>\n      <th>f_4</th>\n      <th>f_5</th>\n      <th>...</th>\n      <th>f_290</th>\n      <th>f_291</th>\n      <th>f_292</th>\n      <th>f_293</th>\n      <th>f_294</th>\n      <th>f_295</th>\n      <th>f_296</th>\n      <th>f_297</th>\n      <th>f_298</th>\n      <th>f_299</th>\n    </tr>\n  </thead>\n  <tbody>\n    <tr>\n      <th>0</th>\n      <td>0_1</td>\n      <td>0</td>\n      <td>1</td>\n      <td>-0.300875</td>\n      <td>0.932573</td>\n      <td>0.113691</td>\n      <td>-0.402206</td>\n      <td>0.378386</td>\n      <td>-0.203938</td>\n      <td>-0.413469</td>\n      <td>...</td>\n      <td>0.366028</td>\n      <td>-1.095620</td>\n      <td>0.200075</td>\n      <td>0.819155</td>\n      <td>0.941183</td>\n      <td>-0.086764</td>\n      <td>-1.087009</td>\n      <td>-1.044826</td>\n      <td>-0.287605</td>\n      <td>0.321566</td>\n    </tr>\n    <tr>\n      <th>1</th>\n      <td>0_2</td>\n      <td>0</td>\n      <td>2</td>\n      <td>-0.231040</td>\n      <td>0.810802</td>\n      <td>-0.514115</td>\n      <td>0.742368</td>\n      <td>-0.616673</td>\n      <td>-0.194255</td>\n      <td>1.771210</td>\n      <td>...</td>\n      <td>-0.154193</td>\n      <td>0.912726</td>\n      <td>-0.734579</td>\n      <td>0.819155</td>\n      <td>0.941183</td>\n      <td>-0.387617</td>\n      <td>-1.087009</td>\n      <td>-0.929529</td>\n      <td>-0.974060</td>\n      <td>-0.343624</td>\n    </tr>\n    <tr>\n      <th>2</th>\n      <td>0_6</td>\n      <td>0</td>\n      <td>6</td>\n      <td>0.568807</td>\n      <td>0.393974</td>\n      <td>0.615937</td>\n      <td>0.567806</td>\n      <td>-0.607963</td>\n      <td>0.068883</td>\n      <td>-1.083155</td>\n      <td>...</td>\n      <td>-0.138020</td>\n      <td>0.912726</td>\n      <td>-0.551904</td>\n      <td>-1.220772</td>\n      <td>-1.060166</td>\n      <td>-0.219097</td>\n      <td>-1.087009</td>\n      <td>-0.612428</td>\n      <td>-0.113944</td>\n      <td>0.243608</td>\n    </tr>\n    <tr>\n      <th>3</th>\n      <td>0_7</td>\n      <td>0</td>\n      <td>7</td>\n      <td>-1.064780</td>\n      <td>-2.343535</td>\n      <td>-0.011870</td>\n      <td>1.874606</td>\n      <td>-0.606346</td>\n      <td>-0.586827</td>\n      <td>-0.815737</td>\n      <td>...</td>\n      <td>0.382201</td>\n      <td>0.912726</td>\n      <td>-0.266359</td>\n      <td>-1.220772</td>\n      <td>0.941183</td>\n      <td>-0.609113</td>\n      <td>0.104928</td>\n      <td>-0.783423</td>\n      <td>1.151730</td>\n      <td>-0.773309</td>\n    </tr>\n    <tr>\n      <th>4</th>\n      <td>0_8</td>\n      <td>0</td>\n      <td>8</td>\n      <td>-0.531940</td>\n      <td>0.842057</td>\n      <td>-0.262993</td>\n      <td>2.330030</td>\n      <td>-0.583422</td>\n      <td>-0.618392</td>\n      <td>-0.742814</td>\n      <td>...</td>\n      <td>-0.170365</td>\n      <td>0.912726</td>\n      <td>-0.741355</td>\n      <td>-1.220772</td>\n      <td>0.941183</td>\n      <td>-0.588445</td>\n      <td>0.104928</td>\n      <td>0.753279</td>\n      <td>1.345611</td>\n      <td>-0.737624</td>\n    </tr>\n    <tr>\n      <th>5</th>\n      <td>0_9</td>\n      <td>0</td>\n      <td>9</td>\n      <td>1.505904</td>\n      <td>0.608855</td>\n      <td>1.369305</td>\n      <td>-0.761515</td>\n      <td>0.865860</td>\n      <td>-0.359269</td>\n      <td>-1.835762</td>\n      <td>...</td>\n      <td>0.333684</td>\n      <td>-1.095620</td>\n      <td>-0.335999</td>\n      <td>0.819155</td>\n      <td>-1.060166</td>\n      <td>-0.343812</td>\n      <td>-1.087009</td>\n      <td>0.077862</td>\n      <td>0.142943</td>\n      <td>-0.055550</td>\n    </tr>\n    <tr>\n      <th>6</th>\n      <td>0_10</td>\n      <td>0</td>\n      <td>10</td>\n      <td>-0.260731</td>\n      <td>-1.863797</td>\n      <td>0.113691</td>\n      <td>1.573864</td>\n      <td>-0.598433</td>\n      <td>-0.569936</td>\n      <td>0.398784</td>\n      <td>...</td>\n      <td>0.821560</td>\n      <td>0.912726</td>\n      <td>0.476309</td>\n      <td>-1.220772</td>\n      <td>0.941183</td>\n      <td>-0.434315</td>\n      <td>1.296864</td>\n      <td>0.171329</td>\n      <td>1.051288</td>\n      <td>-0.745335</td>\n    </tr>\n    <tr>\n      <th>7</th>\n      <td>0_12</td>\n      <td>0</td>\n      <td>12</td>\n      <td>-0.469207</td>\n      <td>0.408954</td>\n      <td>-0.765238</td>\n      <td>0.261430</td>\n      <td>-0.591895</td>\n      <td>-0.037260</td>\n      <td>0.668721</td>\n      <td>...</td>\n      <td>0.821560</td>\n      <td>-1.095620</td>\n      <td>-0.864354</td>\n      <td>-1.220772</td>\n      <td>-1.060166</td>\n      <td>-0.300218</td>\n      <td>1.296864</td>\n      <td>-0.779556</td>\n      <td>0.274961</td>\n      <td>-0.182520</td>\n    </tr>\n    <tr>\n      <th>8</th>\n      <td>0_13</td>\n      <td>0</td>\n      <td>13</td>\n      <td>0.094525</td>\n      <td>0.861187</td>\n      <td>2.373796</td>\n      <td>-1.148977</td>\n      <td>0.752205</td>\n      <td>-0.050502</td>\n      <td>-2.249047</td>\n      <td>...</td>\n      <td>-0.658241</td>\n      <td>0.912726</td>\n      <td>0.718282</td>\n      <td>0.819155</td>\n      <td>0.941183</td>\n      <td>4.198117</td>\n      <td>1.296864</td>\n      <td>1.854434</td>\n      <td>0.000000</td>\n      <td>-0.688340</td>\n    </tr>\n    <tr>\n      <th>9</th>\n      <td>0_14</td>\n      <td>0</td>\n      <td>14</td>\n      <td>-0.251120</td>\n      <td>-2.476555</td>\n      <td>0.239253</td>\n      <td>2.222353</td>\n      <td>-0.582276</td>\n      <td>-0.618236</td>\n      <td>0.386263</td>\n      <td>...</td>\n      <td>0.821560</td>\n      <td>-1.095620</td>\n      <td>-0.615709</td>\n      <td>-1.220772</td>\n      <td>-1.060166</td>\n      <td>-0.647769</td>\n      <td>0.104928</td>\n      <td>-0.849789</td>\n      <td>0.805876</td>\n      <td>-0.820165</td>\n    </tr>\n  </tbody>\n</table>\n<p>10 rows × 304 columns</p>\n</div>"
     },
     "execution_count": 81,
     "metadata": {},
     "output_type": "execute_result"
    }
   ],
   "source": [
    "xtrain = pd.read_parquet(os.path.join(Config.data_folder, 'train_low_mem.parquet'))\n",
    "xtrain.head(10)"
   ],
   "metadata": {
    "execution": {
     "iopub.status.busy": "2022-09-05T11:24:24.613822Z",
     "iopub.execute_input": "2022-09-05T11:24:24.614238Z",
     "iopub.status.idle": "2022-09-05T11:25:03.749367Z",
     "shell.execute_reply.started": "2022-09-05T11:24:24.614208Z",
     "shell.execute_reply": "2022-09-05T11:25:03.74823Z"
    },
    "trusted": true,
    "ExecuteTime": {
     "end_time": "2023-12-18T05:59:21.921538656Z",
     "start_time": "2023-12-18T05:59:18.790411751Z"
    }
   }
  },
  {
   "cell_type": "markdown",
   "source": [
    "# Reflections on the problem at hand\n",
    "The problem has several characteristics that made it a little more challenging than usual:\n",
    "\n",
    "- multiple assets, not all of them present at each timestamp.\n",
    "- annonymised asset IDs\n",
    "- (potentially) different time deltas between assets\n",
    "- test observations not taken *immediately* after the test period\n"
   ],
   "metadata": {}
  },
  {
   "cell_type": "code",
   "execution_count": 82,
   "outputs": [
    {
     "data": {
      "text/plain": "(0, 1219)"
     },
     "execution_count": 82,
     "metadata": {},
     "output_type": "execute_result"
    }
   ],
   "source": [
    "xtrain['time_id'].min(), xtrain['time_id'].max()"
   ],
   "metadata": {
    "execution": {
     "iopub.status.busy": "2022-09-05T11:25:03.751Z",
     "iopub.execute_input": "2022-09-05T11:25:03.751414Z",
     "iopub.status.idle": "2022-09-05T11:25:03.769853Z",
     "shell.execute_reply.started": "2022-09-05T11:25:03.75137Z",
     "shell.execute_reply": "2022-09-05T11:25:03.769052Z"
    },
    "trusted": true,
    "ExecuteTime": {
     "end_time": "2023-12-18T05:59:21.926305458Z",
     "start_time": "2023-12-18T05:59:21.922807560Z"
    }
   }
  },
  {
   "cell_type": "markdown",
   "source": [
    "**PSA: to make the setup really proper, we should have a loop around this block and change the test set as well**   $\\rightarrow$ otherwise we run a risk of overfitting to the test set\n",
    "\n"
   ],
   "metadata": {}
  },
  {
   "cell_type": "markdown",
   "source": [
    "\n",
    "We will keep the observations from timestamp 1100 onward as our holdout test set and play around with the rest:"
   ],
   "metadata": {}
  },
  {
   "cell_type": "code",
   "execution_count": 83,
   "outputs": [
    {
     "name": "stdout",
     "output_type": "stream",
     "text": [
      "(2747029, 304) (394381, 304)\n"
     ]
    }
   ],
   "source": [
    "# train / validation split\n",
    "xtest = xtrain.loc[xtrain.time_id > Config.cutoff_point].copy()\n",
    "xtrain = xtrain.loc[xtrain.time_id <= Config.cutoff_point].copy()\n",
    "print(xtrain.shape, xtest.shape)"
   ],
   "metadata": {
    "ExecuteTime": {
     "end_time": "2023-12-18T05:59:23.274797706Z",
     "start_time": "2023-12-18T05:59:21.926730653Z"
    }
   }
  },
  {
   "cell_type": "code",
   "execution_count": 84,
   "outputs": [
    {
     "name": "stdout",
     "output_type": "stream",
     "text": [
      "Memory usage of dataframe is 3164.68 MB\n",
      "Memory usage after optimization is: 1592.82 MB\n",
      "Decreased by 49.7%\n",
      "Memory usage of dataframe is 454.34 MB\n",
      "Memory usage after optimization is: 228.68 MB\n",
      "Decreased by 49.7%\n",
      "CPU times: user 3.82 s, sys: 352 ms, total: 4.17 s\n",
      "Wall time: 4.17 s\n"
     ]
    },
    {
     "data": {
      "text/plain": "58"
     },
     "execution_count": 84,
     "metadata": {},
     "output_type": "execute_result"
    }
   ],
   "source": [
    "%%time\n",
    "# normal cleanup and preparation\n",
    "id_train, id_test = xtrain['row_id'].copy(), xtest['row_id'].copy()\n",
    "xtrain.drop('row_id', axis=1, inplace=True)\n",
    "xtest.drop('row_id', axis=1, inplace=True)\n",
    "\n",
    "ytrain, ytest = xtrain['target'].copy(), xtest['target'].copy()\n",
    "inv_train, inv_test = xtrain['investment_id'].copy(), xtest['investment_id'].copy()\n",
    "time_train, time_test = xtrain['time_id'].copy(), xtest['time_id'].copy()\n",
    "\n",
    "xtrain.drop(['time_id', 'investment_id', 'target'], axis=1, inplace=True)\n",
    "xtest.drop(['time_id', 'investment_id', 'target'], axis=1, inplace=True)\n",
    "\n",
    "xtrain = reduce_mem_usage(xtrain)\n",
    "xtest = reduce_mem_usage(xtest)\n",
    "\n",
    "gc.collect()"
   ],
   "metadata": {
    "execution": {
     "iopub.status.busy": "2022-09-05T11:28:35.062437Z",
     "iopub.execute_input": "2022-09-05T11:28:35.062797Z",
     "iopub.status.idle": "2022-09-05T11:31:44.177366Z",
     "shell.execute_reply.started": "2022-09-05T11:28:35.062765Z",
     "shell.execute_reply": "2022-09-05T11:31:44.175872Z"
    },
    "trusted": true,
    "ExecuteTime": {
     "end_time": "2023-12-18T05:59:27.450949054Z",
     "start_time": "2023-12-18T05:59:23.276574202Z"
    }
   }
  },
  {
   "cell_type": "markdown",
   "source": [
    "# LGBM parameters"
   ],
   "metadata": {
    "collapsed": false
   }
  },
  {
   "cell_type": "code",
   "execution_count": 85,
   "outputs": [],
   "source": [
    "lgb_parameters = {\n",
    "    'objective': 'regression', \n",
    "    'metric': 'rmse', \n",
    "    'device': 'gpu',\n",
    "    'gpu_platform_id': 0,\n",
    "    'gpu_device_id': 0,\n",
    "    'force_col_wise': True,\n",
    "    'num_iterations': Config.nof_trees,\n",
    "    'num_leaves': 32, \n",
    "    'learning_rate': 0.1, \n",
    "    'subsample': 0.8, \n",
    "    'colsample_bytree': 0.6\n",
    "}"
   ],
   "metadata": {
    "collapsed": false,
    "ExecuteTime": {
     "end_time": "2023-12-18T05:59:27.454341472Z",
     "start_time": "2023-12-18T05:59:27.450129912Z"
    }
   }
  },
  {
   "cell_type": "code",
   "execution_count": 86,
   "outputs": [],
   "source": [
    "wandb.config.update(lgb_parameters)"
   ],
   "metadata": {
    "collapsed": false,
    "ExecuteTime": {
     "end_time": "2023-12-18T05:59:27.465848384Z",
     "start_time": "2023-12-18T05:59:27.453465141Z"
    }
   }
  },
  {
   "cell_type": "markdown",
   "source": [
    "# 1) naive random split\n",
    "First validation setup is a random split - for obvious reasons we do not expect success, but it is useful to keep as a reference / baseline:"
   ],
   "metadata": {}
  },
  {
   "cell_type": "code",
   "execution_count": 87,
   "outputs": [],
   "source": [
    "from sklearn.model_selection import train_test_split\n",
    "\n",
    "x0, x1, y0, y1 = train_test_split(xtrain, ytrain, test_size=0.33, random_state=42)"
   ],
   "metadata": {
    "execution": {
     "iopub.status.busy": "2022-09-05T10:41:06.416083Z",
     "iopub.execute_input": "2022-09-05T10:41:06.416421Z"
    },
    "trusted": true,
    "ExecuteTime": {
     "end_time": "2023-12-18T05:59:29.429852249Z",
     "start_time": "2023-12-18T05:59:27.466653640Z"
    }
   }
  },
  {
   "cell_type": "code",
   "source": [
    "%%time\n",
    "\n",
    "model = lgb.LGBMRegressor(**lgb_parameters)\n",
    "\n",
    "model.fit(\n",
    "    x0, \n",
    "    y0, \n",
    "    eval_metric='rmse', \n",
    "    eval_set=[(x0, y0), (x1, y1)],\n",
    "    callbacks=[wandb_callback]\n",
    ")\n",
    "\n",
    "val_preds = model.predict(x1)"
   ],
   "metadata": {
    "trusted": true,
    "ExecuteTime": {
     "end_time": "2023-12-18T05:59:43.403033162Z",
     "start_time": "2023-12-18T05:59:29.430827316Z"
    }
   },
   "execution_count": 88,
   "outputs": [
    {
     "name": "stderr",
     "output_type": "stream",
     "text": [
      "/home/noone/Documents/GitHub/ubiquant/.venv/lib/python3.11/site-packages/lightgbm/engine.py:172: UserWarning: Found `num_iterations` in params. Will use it instead of argument\n",
      "  _log_warning(f\"Found `{alias}` in params. Will use it instead of argument\")\n"
     ]
    },
    {
     "name": "stdout",
     "output_type": "stream",
     "text": [
      "[LightGBM] [Info] This is the GPU trainer!!\n",
      "[LightGBM] [Info] Total Bins 76500\n",
      "[LightGBM] [Info] Number of data points in the train set: 1840509, number of used features: 300\n",
      "[LightGBM] [Info] Using requested OpenCL platform 0 device 0\n",
      "[LightGBM] [Info] Using GPU Device: NVIDIA GeForce RTX 3090, Vendor: NVIDIA Corporation\n",
      "[LightGBM] [Info] Compiling OpenCL Kernel with 256 bins...\n",
      "[LightGBM] [Info] GPU programs have been built\n",
      "[LightGBM] [Info] Size of histogram bin entry: 8\n",
      "[LightGBM] [Info] 300 dense feature groups (526.57 MB) transferred to GPU in 0.129623 secs. 0 sparse feature groups\n",
      "[LightGBM] [Info] Start training from score -0.022510\n",
      "CPU times: user 2min 35s, sys: 789 ms, total: 2min 36s\n",
      "Wall time: 13.9 s\n"
     ]
    }
   ]
  },
  {
   "cell_type": "code",
   "execution_count": 89,
   "outputs": [
    {
     "name": "stdout",
     "output_type": "stream",
     "text": [
      "validation score: 0.1886\n",
      "test score: 0.1291\n"
     ]
    }
   ],
   "source": [
    "# validation score    \n",
    "score = np.round(p(val_preds, y1)[0], 4)\n",
    "print(f\"validation score: {str(score)}\")\n",
    "\n",
    "# actual test performance\n",
    "test_preds = model.predict(xtest)\n",
    "score = np.round(p(test_preds, ytest)[0], 4)\n",
    "print(f\"test score: {str(score)}\")"
   ],
   "metadata": {
    "collapsed": false,
    "ExecuteTime": {
     "end_time": "2023-12-18T05:59:43.868650187Z",
     "start_time": "2023-12-18T05:59:43.384412691Z"
    }
   }
  },
  {
   "cell_type": "code",
   "source": [
    "# clean up\n",
    "del x0, x1, y0, y1 \n",
    "gc.collect()"
   ],
   "metadata": {
    "trusted": true,
    "ExecuteTime": {
     "end_time": "2023-12-18T05:59:43.990584221Z",
     "start_time": "2023-12-18T05:59:43.869511398Z"
    }
   },
   "execution_count": 90,
   "outputs": [
    {
     "data": {
      "text/plain": "35"
     },
     "execution_count": 90,
     "metadata": {},
     "output_type": "execute_result"
    }
   ]
  },
  {
   "cell_type": "markdown",
   "source": [
    "## Conclusion\n",
    "Not Good. There are two obvious problems:\n",
    "- the RMSE is too high\n",
    "- There is a substantial gap between our validation and test scores. \n",
    "\n",
    "Why? Our series are **serially correlated**. So by using random sampling we are leaking information (the model is trained on future observations and then \"predicts\" the past). \n",
    "\n",
    "Conclusion: **Naive CV doesn't perform well for time series.**"
   ],
   "metadata": {},
   "attachments": {
    "a84d7dc0-8c41-4f47-9644-64312393c5e2.jpeg": {
     "image/jpeg": "[encoded data removed]"
    }
   }
  },
  {
   "cell_type": "markdown",
   "source": [
    "<a id=\"section-two\"></a>\n",
    "# 2) KFold\n",
    "A second most common approach to validation is `KFold`: [Source](https://scikit-learn.org/stable/modules/cross_validation.html)\n",
    "\n",
    "The issues mentioned for random split are valid for KFold as well:\n",
    "- test data occurs before training data\n",
    "- gaps in the training series (windows 2–4)\n",
    "[Source](https://towardsdatascience.com/dont-use-k-fold-validation-for-time-series-forecasting-30b724aaea64)\n",
    "\n",
    "However, [Bergmeir et al](https://robjhyndman.com/publications/cv-time-series/) make the case that it does work for autoregressions, i.e. series where the predictors are lagged values of the response variable. Since the features were anonymised, we cannot decide a priori whether this is the right approach. Instead, we must find out empirically:"
   ],
   "metadata": {}
  },
  {
   "cell_type": "code",
   "source": [
    "%%time\n",
    "from sklearn.model_selection import KFold\n",
    "\n",
    "kf = KFold(\n",
    "    n_splits=Config.nfolds, \n",
    "    shuffle=True, \n",
    "    random_state=Config.seed\n",
    ")\n",
    "\n",
    "res_vec = np.zeros((Config.nfolds, 1))\n",
    "\n",
    "prv = np.zeros((xtest.shape[0], Config.nfolds))\n",
    "\n",
    "for (ii, (id0, id1)) in enumerate(kf.split(xtrain)):\n",
    "    print(f\"fold: {str(ii)}\")\n",
    "    x0, x1 = xtrain.loc[id0], xtrain.loc[id1]\n",
    "    y0, y1 = ytrain.loc[id0], ytrain.loc[id1]\n",
    "    \n",
    "    model = lgb.LGBMRegressor(**lgb_parameters)\n",
    "\n",
    "    model.fit(\n",
    "        x0, \n",
    "        y0, \n",
    "        eval_metric='rmse', \n",
    "        eval_set=[(x0, y0), (x1, y1)],\n",
    "        callbacks=[wandb_callback]\n",
    "    )\n",
    "    \n",
    "    val_preds = model.predict(x1)\n",
    "    prv[:, ii] += model.predict(xtest) / Config.nfolds\n",
    "    \n",
    "    # validation score    \n",
    "    score = np.round(p(val_preds, y1)[0], 4)\n",
    "    res_vec[ii] = score\n",
    "    print(f\"validation score: {str(score)}\")\n",
    "\n",
    "    # actual test performance\n",
    "    score = np.round(p(test_preds, ytest)[0], 4)\n",
    "    print(f\"test score: {str(score)}\")\n",
    "    \n",
    "    del model, x0, x1, y0, y1"
   ],
   "metadata": {
    "trusted": true,
    "ExecuteTime": {
     "end_time": "2023-12-18T06:00:59.676737506Z",
     "start_time": "2023-12-18T05:59:43.989101371Z"
    }
   },
   "execution_count": 91,
   "outputs": [
    {
     "name": "stdout",
     "output_type": "stream",
     "text": [
      "fold: 0\n"
     ]
    },
    {
     "name": "stderr",
     "output_type": "stream",
     "text": [
      "/home/noone/Documents/GitHub/ubiquant/.venv/lib/python3.11/site-packages/lightgbm/engine.py:172: UserWarning: Found `num_iterations` in params. Will use it instead of argument\n",
      "  _log_warning(f\"Found `{alias}` in params. Will use it instead of argument\")\n"
     ]
    },
    {
     "name": "stdout",
     "output_type": "stream",
     "text": [
      "[LightGBM] [Info] This is the GPU trainer!!\n",
      "[LightGBM] [Info] Total Bins 76500\n",
      "[LightGBM] [Info] Number of data points in the train set: 2197623, number of used features: 300\n",
      "[LightGBM] [Info] Using requested OpenCL platform 0 device 0\n",
      "[LightGBM] [Info] Using GPU Device: NVIDIA GeForce RTX 3090, Vendor: NVIDIA Corporation\n",
      "[LightGBM] [Info] Compiling OpenCL Kernel with 256 bins...\n",
      "[LightGBM] [Info] GPU programs have been built\n",
      "[LightGBM] [Info] Size of histogram bin entry: 8\n",
      "[LightGBM] [Info] 300 dense feature groups (628.74 MB) transferred to GPU in 0.161943 secs. 0 sparse feature groups\n",
      "[LightGBM] [Info] Start training from score -0.022344\n",
      "validation score: 0.1894\n",
      "test score: 0.1291\n",
      "fold: 1\n"
     ]
    },
    {
     "name": "stderr",
     "output_type": "stream",
     "text": [
      "/home/noone/Documents/GitHub/ubiquant/.venv/lib/python3.11/site-packages/lightgbm/engine.py:172: UserWarning: Found `num_iterations` in params. Will use it instead of argument\n",
      "  _log_warning(f\"Found `{alias}` in params. Will use it instead of argument\")\n"
     ]
    },
    {
     "name": "stdout",
     "output_type": "stream",
     "text": [
      "[LightGBM] [Info] This is the GPU trainer!!\n",
      "[LightGBM] [Info] Total Bins 76500\n",
      "[LightGBM] [Info] Number of data points in the train set: 2197623, number of used features: 300\n",
      "[LightGBM] [Info] Using requested OpenCL platform 0 device 0\n",
      "[LightGBM] [Info] Using GPU Device: NVIDIA GeForce RTX 3090, Vendor: NVIDIA Corporation\n",
      "[LightGBM] [Info] Compiling OpenCL Kernel with 256 bins...\n",
      "[LightGBM] [Info] GPU programs have been built\n",
      "[LightGBM] [Info] Size of histogram bin entry: 8\n",
      "[LightGBM] [Info] 300 dense feature groups (628.74 MB) transferred to GPU in 0.170609 secs. 0 sparse feature groups\n",
      "[LightGBM] [Info] Start training from score -0.022075\n",
      "validation score: 0.1897\n",
      "test score: 0.1291\n",
      "fold: 2\n"
     ]
    },
    {
     "name": "stderr",
     "output_type": "stream",
     "text": [
      "/home/noone/Documents/GitHub/ubiquant/.venv/lib/python3.11/site-packages/lightgbm/engine.py:172: UserWarning: Found `num_iterations` in params. Will use it instead of argument\n",
      "  _log_warning(f\"Found `{alias}` in params. Will use it instead of argument\")\n"
     ]
    },
    {
     "name": "stdout",
     "output_type": "stream",
     "text": [
      "[LightGBM] [Info] This is the GPU trainer!!\n",
      "[LightGBM] [Info] Total Bins 76500\n",
      "[LightGBM] [Info] Number of data points in the train set: 2197623, number of used features: 300\n",
      "[LightGBM] [Info] Using requested OpenCL platform 0 device 0\n",
      "[LightGBM] [Info] Using GPU Device: NVIDIA GeForce RTX 3090, Vendor: NVIDIA Corporation\n",
      "[LightGBM] [Info] Compiling OpenCL Kernel with 256 bins...\n",
      "[LightGBM] [Info] GPU programs have been built\n",
      "[LightGBM] [Info] Size of histogram bin entry: 8\n",
      "[LightGBM] [Info] 300 dense feature groups (628.74 MB) transferred to GPU in 0.161588 secs. 0 sparse feature groups\n",
      "[LightGBM] [Info] Start training from score -0.022133\n",
      "validation score: 0.1917\n",
      "test score: 0.1291\n",
      "fold: 3\n"
     ]
    },
    {
     "name": "stderr",
     "output_type": "stream",
     "text": [
      "/home/noone/Documents/GitHub/ubiquant/.venv/lib/python3.11/site-packages/lightgbm/engine.py:172: UserWarning: Found `num_iterations` in params. Will use it instead of argument\n",
      "  _log_warning(f\"Found `{alias}` in params. Will use it instead of argument\")\n"
     ]
    },
    {
     "name": "stdout",
     "output_type": "stream",
     "text": [
      "[LightGBM] [Info] This is the GPU trainer!!\n",
      "[LightGBM] [Info] Total Bins 76500\n",
      "[LightGBM] [Info] Number of data points in the train set: 2197623, number of used features: 300\n",
      "[LightGBM] [Info] Using requested OpenCL platform 0 device 0\n",
      "[LightGBM] [Info] Using GPU Device: NVIDIA GeForce RTX 3090, Vendor: NVIDIA Corporation\n",
      "[LightGBM] [Info] Compiling OpenCL Kernel with 256 bins...\n",
      "[LightGBM] [Info] GPU programs have been built\n",
      "[LightGBM] [Info] Size of histogram bin entry: 8\n",
      "[LightGBM] [Info] 300 dense feature groups (628.74 MB) transferred to GPU in 0.167730 secs. 0 sparse feature groups\n",
      "[LightGBM] [Info] Start training from score -0.022417\n",
      "validation score: 0.189\n",
      "test score: 0.1291\n",
      "fold: 4\n"
     ]
    },
    {
     "name": "stderr",
     "output_type": "stream",
     "text": [
      "/home/noone/Documents/GitHub/ubiquant/.venv/lib/python3.11/site-packages/lightgbm/engine.py:172: UserWarning: Found `num_iterations` in params. Will use it instead of argument\n",
      "  _log_warning(f\"Found `{alias}` in params. Will use it instead of argument\")\n"
     ]
    },
    {
     "name": "stdout",
     "output_type": "stream",
     "text": [
      "[LightGBM] [Info] This is the GPU trainer!!\n",
      "[LightGBM] [Info] Total Bins 76500\n",
      "[LightGBM] [Info] Number of data points in the train set: 2197624, number of used features: 300\n",
      "[LightGBM] [Info] Using requested OpenCL platform 0 device 0\n",
      "[LightGBM] [Info] Using GPU Device: NVIDIA GeForce RTX 3090, Vendor: NVIDIA Corporation\n",
      "[LightGBM] [Info] Compiling OpenCL Kernel with 256 bins...\n",
      "[LightGBM] [Info] GPU programs have been built\n",
      "[LightGBM] [Info] Size of histogram bin entry: 8\n",
      "[LightGBM] [Info] 300 dense feature groups (628.75 MB) transferred to GPU in 0.160894 secs. 0 sparse feature groups\n",
      "[LightGBM] [Info] Start training from score -0.022228\n",
      "validation score: 0.189\n",
      "test score: 0.1291\n",
      "CPU times: user 13min 33s, sys: 14.1 s, total: 13min 47s\n",
      "Wall time: 1min 15s\n"
     ]
    }
   ]
  },
  {
   "cell_type": "code",
   "source": [
    "%%time\n",
    "# average score\n",
    "avg_score = np.round(np.mean(res_vec), 4)\n",
    "print(f\"Kfolds average score across folds: {str(avg_score)}\")\n",
    "\n",
    "# test score\n",
    "score = np.round(p(ytest, prv.mean(axis=1))[0], 4)\n",
    "print(f\"Kfolds full test score: {str(score)}\")"
   ],
   "metadata": {
    "trusted": true,
    "ExecuteTime": {
     "end_time": "2023-12-18T06:00:59.690019272Z",
     "start_time": "2023-12-18T06:00:59.670430175Z"
    }
   },
   "execution_count": 92,
   "outputs": [
    {
     "name": "stdout",
     "output_type": "stream",
     "text": [
      "Kfolds average score across folds: 0.1898\n",
      "Kfolds full test score: 0.1351\n",
      "CPU times: user 111 ms, sys: 215 ms, total: 326 ms\n",
      "Wall time: 11.2 ms\n"
     ]
    }
   ]
  },
  {
   "cell_type": "markdown",
   "source": [
    "The large gap between validation and test scores shows us that there is still substantial overfit occurring, indicating that **whatever the features are, they are not (a proxy for) lagged values of the target variable**. \n",
    "\n",
    "What if we tried to do something more time-series oriented, that took the temporal dependency explicitly into account? There are two changes that come to mind:\n",
    "- respect the chronological order of the data $\\rightarrow$ the training set should occur before the validation set, which should occur before the test set\n",
    "- the test set should move over time"
   ],
   "metadata": {}
  },
  {
   "cell_type": "markdown",
   "source": [
    "<a id=\"section-three\"></a>\n",
    "# 3) Time Series Split (Walk forward validation)\n",
    "\n",
    "It should be obvious that this split problem is common to time series. So, unsurprisingly, SK-Learn has a split method specifically name `TimeSeriesSplit`, with this situation in mind. The scikit-learn implementation of a time series split (a.k.a walk forward validation [Source](https://audhiaprilliant.medium.com/walk-forward-optimization-cross-validation-technique-for-time-series-data-61739f58f2c0)) is a variation of `KFold`: \n",
    "- in the $k$th split, it returns first $k$ folds as train set and the $(k+1)$th fold as test set\n",
    "- successive training sets can be supersets of those that came before them or have a fixed size $\\rightarrow$ controlled by *max_train_size* argument. \n",
    "- useful in time-sensitive contexts like trading $\\rightarrow$ robustness of a strategy, concept drift\n",
    "- backtesting is based around wfv - with / without refitting the model\n",
    "\n",
    "Let's test with a progressively increasing train set:"
   ],
   "metadata": {}
  },
  {
   "cell_type": "code",
   "source": [
    "%%time\n",
    "\n",
    "from sklearn.model_selection import TimeSeriesSplit\n",
    "\n",
    "tscv = TimeSeriesSplit(n_splits=Config.nfolds, max_train_size=None)\n",
    "\n",
    "res_vec = np.zeros((Config.nfolds, 1))"
   ],
   "metadata": {
    "trusted": true,
    "ExecuteTime": {
     "end_time": "2023-12-18T06:00:59.742880059Z",
     "start_time": "2023-12-18T06:00:59.682862592Z"
    }
   },
   "execution_count": 93,
   "outputs": [
    {
     "name": "stdout",
     "output_type": "stream",
     "text": [
      "CPU times: user 826 µs, sys: 36 µs, total: 862 µs\n",
      "Wall time: 34.1 µs\n"
     ]
    }
   ]
  },
  {
   "cell_type": "code",
   "source": [
    "%%time\n",
    "\n",
    "for (ii, (id0, id1)) in enumerate(tscv.split(xtrain)):\n",
    "    x0, x1 = xtrain.loc[id0], xtrain.loc[id1]\n",
    "    y0, y1 = ytrain.loc[id0], ytrain.loc[id1]\n",
    "    \n",
    "    model = lgb.LGBMRegressor(**lgb_parameters)\n",
    "\n",
    "    model.fit(\n",
    "        x0, \n",
    "        y0, \n",
    "        eval_metric='rmse', \n",
    "        eval_set=[(x0, y0), (x1, y1)],\n",
    "        callbacks=[wandb_callback]\n",
    "    )\n",
    "    \n",
    "    val_preds = model.predict(x1)\n",
    "    prv[:, ii] += model.predict(xtest) / Config.nfolds\n",
    "    \n",
    "    # validation score    \n",
    "    score = np.round(p(val_preds, y1)[0], 4)\n",
    "    res_vec[ii] = score\n",
    "    print(f\"validation score: {str(score)}\")\n",
    "\n",
    "    # actual test performance\n",
    "    test_preds = model.predict(xtest)\n",
    "    score = np.round(p(test_preds, ytest)[0], 4)\n",
    "    print(f\"test score: {str(score)}\")\n",
    "    del model, x0, x1, y0, y1\n",
    "    \n",
    "gc.collect()"
   ],
   "metadata": {
    "trusted": true,
    "ExecuteTime": {
     "end_time": "2023-12-18T06:01:55.363744810Z",
     "start_time": "2023-12-18T06:00:59.741753214Z"
    }
   },
   "execution_count": 94,
   "outputs": [
    {
     "name": "stderr",
     "output_type": "stream",
     "text": [
      "/home/noone/Documents/GitHub/ubiquant/.venv/lib/python3.11/site-packages/lightgbm/engine.py:172: UserWarning: Found `num_iterations` in params. Will use it instead of argument\n",
      "  _log_warning(f\"Found `{alias}` in params. Will use it instead of argument\")\n"
     ]
    },
    {
     "name": "stdout",
     "output_type": "stream",
     "text": [
      "[LightGBM] [Info] This is the GPU trainer!!\n",
      "[LightGBM] [Info] Total Bins 76500\n",
      "[LightGBM] [Info] Number of data points in the train set: 457839, number of used features: 300\n",
      "[LightGBM] [Info] Using requested OpenCL platform 0 device 0\n",
      "[LightGBM] [Info] Using GPU Device: NVIDIA GeForce RTX 3090, Vendor: NVIDIA Corporation\n",
      "[LightGBM] [Info] Compiling OpenCL Kernel with 256 bins...\n",
      "[LightGBM] [Info] GPU programs have been built\n",
      "[LightGBM] [Info] Size of histogram bin entry: 8\n",
      "[LightGBM] [Info] 299 dense feature groups (130.99 MB) transferred to GPU in 0.024767 secs. 1 sparse feature groups\n",
      "[LightGBM] [Info] Start training from score -0.023452\n",
      "validation score: 0.1272\n",
      "test score: 0.0791\n"
     ]
    },
    {
     "name": "stderr",
     "output_type": "stream",
     "text": [
      "/home/noone/Documents/GitHub/ubiquant/.venv/lib/python3.11/site-packages/lightgbm/engine.py:172: UserWarning: Found `num_iterations` in params. Will use it instead of argument\n",
      "  _log_warning(f\"Found `{alias}` in params. Will use it instead of argument\")\n"
     ]
    },
    {
     "name": "stdout",
     "output_type": "stream",
     "text": [
      "[LightGBM] [Info] This is the GPU trainer!!\n",
      "[LightGBM] [Info] Total Bins 76500\n",
      "[LightGBM] [Info] Number of data points in the train set: 915677, number of used features: 300\n",
      "[LightGBM] [Info] Using requested OpenCL platform 0 device 0\n",
      "[LightGBM] [Info] Using GPU Device: NVIDIA GeForce RTX 3090, Vendor: NVIDIA Corporation\n",
      "[LightGBM] [Info] Compiling OpenCL Kernel with 256 bins...\n",
      "[LightGBM] [Info] GPU programs have been built\n",
      "[LightGBM] [Info] Size of histogram bin entry: 8\n",
      "[LightGBM] [Info] 299 dense feature groups (261.98 MB) transferred to GPU in 0.051036 secs. 1 sparse feature groups\n",
      "[LightGBM] [Info] Start training from score -0.035685\n",
      "validation score: 0.1542\n",
      "test score: 0.0833\n"
     ]
    },
    {
     "name": "stderr",
     "output_type": "stream",
     "text": [
      "/home/noone/Documents/GitHub/ubiquant/.venv/lib/python3.11/site-packages/lightgbm/engine.py:172: UserWarning: Found `num_iterations` in params. Will use it instead of argument\n",
      "  _log_warning(f\"Found `{alias}` in params. Will use it instead of argument\")\n"
     ]
    },
    {
     "name": "stdout",
     "output_type": "stream",
     "text": [
      "[LightGBM] [Info] This is the GPU trainer!!\n",
      "[LightGBM] [Info] Total Bins 76500\n",
      "[LightGBM] [Info] Number of data points in the train set: 1373515, number of used features: 300\n",
      "[LightGBM] [Info] Using requested OpenCL platform 0 device 0\n",
      "[LightGBM] [Info] Using GPU Device: NVIDIA GeForce RTX 3090, Vendor: NVIDIA Corporation\n",
      "[LightGBM] [Info] Compiling OpenCL Kernel with 256 bins...\n",
      "[LightGBM] [Info] GPU programs have been built\n",
      "[LightGBM] [Info] Size of histogram bin entry: 8\n",
      "[LightGBM] [Info] 299 dense feature groups (392.97 MB) transferred to GPU in 0.091487 secs. 1 sparse feature groups\n",
      "[LightGBM] [Info] Start training from score -0.031654\n",
      "validation score: 0.1117\n",
      "test score: 0.0914\n"
     ]
    },
    {
     "name": "stderr",
     "output_type": "stream",
     "text": [
      "/home/noone/Documents/GitHub/ubiquant/.venv/lib/python3.11/site-packages/lightgbm/engine.py:172: UserWarning: Found `num_iterations` in params. Will use it instead of argument\n",
      "  _log_warning(f\"Found `{alias}` in params. Will use it instead of argument\")\n"
     ]
    },
    {
     "name": "stdout",
     "output_type": "stream",
     "text": [
      "[LightGBM] [Info] This is the GPU trainer!!\n",
      "[LightGBM] [Info] Total Bins 76500\n",
      "[LightGBM] [Info] Number of data points in the train set: 1831353, number of used features: 300\n",
      "[LightGBM] [Info] Using requested OpenCL platform 0 device 0\n",
      "[LightGBM] [Info] Using GPU Device: NVIDIA GeForce RTX 3090, Vendor: NVIDIA Corporation\n",
      "[LightGBM] [Info] Compiling OpenCL Kernel with 256 bins...\n",
      "[LightGBM] [Info] GPU programs have been built\n",
      "[LightGBM] [Info] Size of histogram bin entry: 8\n",
      "[LightGBM] [Info] 299 dense feature groups (523.95 MB) transferred to GPU in 0.132875 secs. 1 sparse feature groups\n",
      "[LightGBM] [Info] Start training from score -0.028896\n",
      "validation score: 0.113\n",
      "test score: 0.1023\n"
     ]
    },
    {
     "name": "stderr",
     "output_type": "stream",
     "text": [
      "/home/noone/Documents/GitHub/ubiquant/.venv/lib/python3.11/site-packages/lightgbm/engine.py:172: UserWarning: Found `num_iterations` in params. Will use it instead of argument\n",
      "  _log_warning(f\"Found `{alias}` in params. Will use it instead of argument\")\n"
     ]
    },
    {
     "name": "stdout",
     "output_type": "stream",
     "text": [
      "[LightGBM] [Info] This is the GPU trainer!!\n",
      "[LightGBM] [Info] Total Bins 76500\n",
      "[LightGBM] [Info] Number of data points in the train set: 2289191, number of used features: 300\n",
      "[LightGBM] [Info] Using requested OpenCL platform 0 device 0\n",
      "[LightGBM] [Info] Using GPU Device: NVIDIA GeForce RTX 3090, Vendor: NVIDIA Corporation\n",
      "[LightGBM] [Info] Compiling OpenCL Kernel with 256 bins...\n",
      "[LightGBM] [Info] GPU programs have been built\n",
      "[LightGBM] [Info] Size of histogram bin entry: 8\n",
      "[LightGBM] [Info] 300 dense feature groups (654.94 MB) transferred to GPU in 0.166497 secs. 0 sparse feature groups\n",
      "[LightGBM] [Info] Start training from score -0.025100\n",
      "validation score: 0.13\n",
      "test score: 0.1175\n",
      "CPU times: user 9min 44s, sys: 22.3 s, total: 10min 6s\n",
      "Wall time: 55.6 s\n"
     ]
    },
    {
     "data": {
      "text/plain": "183"
     },
     "execution_count": 94,
     "metadata": {},
     "output_type": "execute_result"
    }
   ]
  },
  {
   "cell_type": "code",
   "execution_count": 95,
   "outputs": [
    {
     "name": "stdout",
     "output_type": "stream",
     "text": [
      "TSS average score across folds: 0.1272\n",
      "TSS full test score: 0.124\n",
      "CPU times: user 33.4 ms, sys: 4.93 ms, total: 38.4 ms\n",
      "Wall time: 9.36 ms\n"
     ]
    }
   ],
   "source": [
    "%%time\n",
    "# average score\n",
    "avg_score = np.round(np.mean(res_vec), 4)\n",
    "print(f\"TSS average score across folds: {str(avg_score)}\")\n",
    "\n",
    "# test score\n",
    "score = np.round(p(ytest, prv.mean(axis=1))[0], 4)\n",
    "print(f\"TSS full test score: {str(score)}\")"
   ],
   "metadata": {
    "collapsed": false,
    "ExecuteTime": {
     "end_time": "2023-12-18T06:01:55.380425328Z",
     "start_time": "2023-12-18T06:01:55.363576601Z"
    }
   }
  },
  {
   "cell_type": "markdown",
   "source": [
    "What if we limit the size of the training set? [Source](https://audhiaprilliant.medium.com/walk-forward-optimization-cross-validation-technique-for-time-series-data-61739f58f2c0)"
   ],
   "metadata": {}
  },
  {
   "cell_type": "code",
   "source": [
    "%%time\n",
    "\n",
    "tscv = TimeSeriesSplit(\n",
    "    n_splits=Config.nfolds, \n",
    "    max_train_size=2 * xtest.shape[0]\n",
    ")\n",
    "\n",
    "res_vec = np.zeros((Config.nfolds, 1))\n",
    "\n",
    "for (ii, (id0, id1)) in enumerate(tscv.split(xtrain)):\n",
    "    x0, x1 = xtrain.loc[id0], xtrain.loc[id1]\n",
    "    y0, y1 = ytrain.loc[id0], ytrain.loc[id1]\n",
    "    \n",
    "    model = lgb.LGBMRegressor(**lgb_parameters)\n",
    "\n",
    "    model.fit(\n",
    "        x0, \n",
    "        y0, \n",
    "        eval_metric='rmse', \n",
    "        eval_set=[(x0, y0), (x1, y1)],\n",
    "        callbacks=[wandb_callback]\n",
    "    )\n",
    "    \n",
    "    val_preds = model.predict(x1)\n",
    "    prv[:, ii] += model.predict(xtest) / Config.nfolds\n",
    "    \n",
    "    # validation score    \n",
    "    score = np.round(p(val_preds, y1)[0], 4)\n",
    "    res_vec[ii] = score\n",
    "    print(f\"validation score: {str(score)}\")\n",
    "\n",
    "    # actual test performance\n",
    "    test_preds = model.predict(xtest)\n",
    "    score = np.round(p(test_preds, ytest)[0], 4)\n",
    "    print(f\"test score: {str(score)}\")\n",
    "\n",
    "    del model, x0, x1, y0, y1"
   ],
   "metadata": {
    "trusted": true,
    "ExecuteTime": {
     "end_time": "2023-12-18T06:02:35.280667959Z",
     "start_time": "2023-12-18T06:01:55.376823383Z"
    }
   },
   "execution_count": 96,
   "outputs": [
    {
     "name": "stderr",
     "output_type": "stream",
     "text": [
      "/home/noone/Documents/GitHub/ubiquant/.venv/lib/python3.11/site-packages/lightgbm/engine.py:172: UserWarning: Found `num_iterations` in params. Will use it instead of argument\n",
      "  _log_warning(f\"Found `{alias}` in params. Will use it instead of argument\")\n"
     ]
    },
    {
     "name": "stdout",
     "output_type": "stream",
     "text": [
      "[LightGBM] [Info] This is the GPU trainer!!\n",
      "[LightGBM] [Info] Total Bins 76500\n",
      "[LightGBM] [Info] Number of data points in the train set: 457839, number of used features: 300\n",
      "[LightGBM] [Info] Using requested OpenCL platform 0 device 0\n",
      "[LightGBM] [Info] Using GPU Device: NVIDIA GeForce RTX 3090, Vendor: NVIDIA Corporation\n",
      "[LightGBM] [Info] Compiling OpenCL Kernel with 256 bins...\n",
      "[LightGBM] [Info] GPU programs have been built\n",
      "[LightGBM] [Info] Size of histogram bin entry: 8\n",
      "[LightGBM] [Info] 299 dense feature groups (130.99 MB) transferred to GPU in 0.024563 secs. 1 sparse feature groups\n",
      "[LightGBM] [Info] Start training from score -0.023452\n",
      "validation score: 0.1272\n",
      "test score: 0.0791\n"
     ]
    },
    {
     "name": "stderr",
     "output_type": "stream",
     "text": [
      "/home/noone/Documents/GitHub/ubiquant/.venv/lib/python3.11/site-packages/lightgbm/engine.py:172: UserWarning: Found `num_iterations` in params. Will use it instead of argument\n",
      "  _log_warning(f\"Found `{alias}` in params. Will use it instead of argument\")\n"
     ]
    },
    {
     "name": "stdout",
     "output_type": "stream",
     "text": [
      "[LightGBM] [Info] This is the GPU trainer!!\n",
      "[LightGBM] [Info] Total Bins 76500\n",
      "[LightGBM] [Info] Number of data points in the train set: 788762, number of used features: 300\n",
      "[LightGBM] [Info] Using requested OpenCL platform 0 device 0\n",
      "[LightGBM] [Info] Using GPU Device: NVIDIA GeForce RTX 3090, Vendor: NVIDIA Corporation\n",
      "[LightGBM] [Info] Compiling OpenCL Kernel with 256 bins...\n",
      "[LightGBM] [Info] GPU programs have been built\n",
      "[LightGBM] [Info] Size of histogram bin entry: 8\n",
      "[LightGBM] [Info] 299 dense feature groups (225.67 MB) transferred to GPU in 0.040080 secs. 1 sparse feature groups\n",
      "[LightGBM] [Info] Start training from score -0.037684\n",
      "validation score: 0.1512\n",
      "test score: 0.0811\n"
     ]
    },
    {
     "name": "stderr",
     "output_type": "stream",
     "text": [
      "/home/noone/Documents/GitHub/ubiquant/.venv/lib/python3.11/site-packages/lightgbm/engine.py:172: UserWarning: Found `num_iterations` in params. Will use it instead of argument\n",
      "  _log_warning(f\"Found `{alias}` in params. Will use it instead of argument\")\n"
     ]
    },
    {
     "name": "stdout",
     "output_type": "stream",
     "text": [
      "[LightGBM] [Info] This is the GPU trainer!!\n",
      "[LightGBM] [Info] Total Bins 76500\n",
      "[LightGBM] [Info] Number of data points in the train set: 788762, number of used features: 300\n",
      "[LightGBM] [Info] Using requested OpenCL platform 0 device 0\n",
      "[LightGBM] [Info] Using GPU Device: NVIDIA GeForce RTX 3090, Vendor: NVIDIA Corporation\n",
      "[LightGBM] [Info] Compiling OpenCL Kernel with 256 bins...\n",
      "[LightGBM] [Info] GPU programs have been built\n",
      "[LightGBM] [Info] Size of histogram bin entry: 8\n",
      "[LightGBM] [Info] 299 dense feature groups (225.67 MB) transferred to GPU in 0.040440 secs. 1 sparse feature groups\n",
      "[LightGBM] [Info] Start training from score -0.037014\n",
      "validation score: 0.1041\n",
      "test score: 0.0855\n"
     ]
    },
    {
     "name": "stderr",
     "output_type": "stream",
     "text": [
      "/home/noone/Documents/GitHub/ubiquant/.venv/lib/python3.11/site-packages/lightgbm/engine.py:172: UserWarning: Found `num_iterations` in params. Will use it instead of argument\n",
      "  _log_warning(f\"Found `{alias}` in params. Will use it instead of argument\")\n"
     ]
    },
    {
     "name": "stdout",
     "output_type": "stream",
     "text": [
      "[LightGBM] [Info] This is the GPU trainer!!\n",
      "[LightGBM] [Info] Total Bins 76500\n",
      "[LightGBM] [Info] Number of data points in the train set: 788762, number of used features: 300\n",
      "[LightGBM] [Info] Using requested OpenCL platform 0 device 0\n",
      "[LightGBM] [Info] Using GPU Device: NVIDIA GeForce RTX 3090, Vendor: NVIDIA Corporation\n",
      "[LightGBM] [Info] Compiling OpenCL Kernel with 256 bins...\n",
      "[LightGBM] [Info] GPU programs have been built\n",
      "[LightGBM] [Info] Size of histogram bin entry: 8\n",
      "[LightGBM] [Info] 300 dense feature groups (225.67 MB) transferred to GPU in 0.045396 secs. 0 sparse feature groups\n",
      "[LightGBM] [Info] Start training from score -0.018263\n",
      "validation score: 0.1124\n",
      "test score: 0.0853\n"
     ]
    },
    {
     "name": "stderr",
     "output_type": "stream",
     "text": [
      "/home/noone/Documents/GitHub/ubiquant/.venv/lib/python3.11/site-packages/lightgbm/engine.py:172: UserWarning: Found `num_iterations` in params. Will use it instead of argument\n",
      "  _log_warning(f\"Found `{alias}` in params. Will use it instead of argument\")\n"
     ]
    },
    {
     "name": "stdout",
     "output_type": "stream",
     "text": [
      "[LightGBM] [Info] This is the GPU trainer!!\n",
      "[LightGBM] [Info] Total Bins 76500\n",
      "[LightGBM] [Info] Number of data points in the train set: 788762, number of used features: 300\n",
      "[LightGBM] [Info] Using requested OpenCL platform 0 device 0\n",
      "[LightGBM] [Info] Using GPU Device: NVIDIA GeForce RTX 3090, Vendor: NVIDIA Corporation\n",
      "[LightGBM] [Info] Compiling OpenCL Kernel with 256 bins...\n",
      "[LightGBM] [Info] GPU programs have been built\n",
      "[LightGBM] [Info] Size of histogram bin entry: 8\n",
      "[LightGBM] [Info] 300 dense feature groups (225.67 MB) transferred to GPU in 0.039851 secs. 0 sparse feature groups\n",
      "[LightGBM] [Info] Start training from score -0.014316\n",
      "validation score: 0.1182\n",
      "test score: 0.1176\n",
      "CPU times: user 6min 37s, sys: 18.6 s, total: 6min 56s\n",
      "Wall time: 39.8 s\n"
     ]
    }
   ]
  },
  {
   "cell_type": "code",
   "execution_count": 97,
   "outputs": [
    {
     "name": "stdout",
     "output_type": "stream",
     "text": [
      "average score across folds: 0.1226\n",
      "full test score: 0.1207\n",
      "CPU times: user 159 ms, sys: 379 ms, total: 538 ms\n",
      "Wall time: 18.1 ms\n"
     ]
    }
   ],
   "source": [
    "%%time\n",
    "# average score\n",
    "avg_score = np.round(np.mean(res_vec), 4)\n",
    "print(f\"average score across folds: {str(avg_score)}\")\n",
    "\n",
    "# test score\n",
    "score = np.round(p(ytest, prv.mean(axis=1))[0], 4)\n",
    "print(f\"full test score: {str(score)}\")"
   ],
   "metadata": {
    "collapsed": false,
    "ExecuteTime": {
     "end_time": "2023-12-18T06:02:35.311307008Z",
     "start_time": "2023-12-18T06:02:35.278260356Z"
    }
   }
  },
  {
   "cell_type": "markdown",
   "source": [
    "WFV pros: \n",
    "- clear historical interpretation \n",
    "- history is a [filtration](https://en.wikipedia.org/wiki/Filtration_(probability_theory))\n",
    "\n",
    "WFV cons:\n",
    "- one single scenario is tested, which is easily overfit (coming later)\n",
    "- initial decisions based on smaller portion of the total sample \n",
    "- future performance / concept drift $\\rightarrow$ not wfv-specific\n",
    "\n",
    "Both fixed and increasing train set do better than the predecessors, but as usual with these things it helps to look at the details \n",
    "The very idea of time-based split is that we avoid peeking forward in time "
   ],
   "metadata": {}
  },
  {
   "cell_type": "code",
   "source": [
    "%%time\n",
    "for train_idx, test_idx in TimeSeriesSplit().split(xtrain):\n",
    "    id1 = time_train.loc[train_idx].unique()\n",
    "    id2 = time_train.loc[test_idx].unique()\n",
    "    print(np.intersect1d(id1, id2))"
   ],
   "metadata": {
    "trusted": true,
    "ExecuteTime": {
     "end_time": "2023-12-18T06:02:35.552570681Z",
     "start_time": "2023-12-18T06:02:35.296490852Z"
    }
   },
   "execution_count": 98,
   "outputs": [
    {
     "name": "stdout",
     "output_type": "stream",
     "text": [
      "[203]\n",
      "[434]\n",
      "[629]\n",
      "[799]\n",
      "[954]\n",
      "CPU times: user 341 ms, sys: 371 ms, total: 711 ms\n",
      "Wall time: 205 ms\n"
     ]
    }
   ]
  },
  {
   "cell_type": "markdown",
   "source": [
    "- First split: day 44 is present in both training and test $\\implies$ we are training on half of the trades of a certain day, just to validate their performance on the other half of the trades of that day\n",
    "- so we have a cleaner split, but not as clean as we'd like. \n",
    "- We can do better!"
   ],
   "metadata": {}
  },
  {
   "cell_type": "markdown",
   "source": [
    "# Recap so far:\n",
    "- Niave CV: overfitting evident from large gap between validation and test scores\n",
    "- KFold: not much better.\n",
    "- `TimeSeriesSplit` is another way round"
   ],
   "metadata": {}
  },
  {
   "cell_type": "markdown",
   "source": [
    "<a id=\"section-four\"></a>\n",
    "# 4) Group Time Series\n",
    "\n",
    "- The `GroupKFold` iterator does respect groupings: no group will ever be part of two folds **BUT** it messes up the temporal order, in the same way as Naive CV and KFold.\n",
    "\n",
    "- What we need is a a crossover between `GroupKFold` and `TimeSeriesSplit` \n",
    "- enter `GroupTimesSeriesSplit`. [**Gaurav Chawla**](https://www.kaggle.com/gc2713)\n",
    "([git](https://github.com/getgaurav2/), [LI](https://www.linkedin.com/in/gauravchawla-columbia)) has created and shared just that with `GroupTimeSeriesSplit` - please do make check out his work!\n",
    "\n",
    "The notebook we borrow the code from was written by [J.J. Smit](https://www.kaggle.com/jorijnsmit):  https://www.kaggle.com/code/jorijnsmit/found-the-holy-grail-grouptimeseriessplit."
   ],
   "metadata": {
    "collapsed": false
   }
  },
  {
   "cell_type": "code",
   "source": [
    "%%time\n",
    "from sklearn.model_selection import GroupKFold\n",
    "\n",
    "for train_idx, test_idx in GroupKFold().split(xtrain, groups = pd.DataFrame(time_train)['time_id']):\n",
    "    id1 = time_train.loc[train_idx].unique()\n",
    "    id2 = time_train.loc[test_idx].unique()\n",
    "    \n",
    "    print(id1[0: 10])\n",
    "    print(id2[0: 10])\n",
    "    print(np.intersect1d(id1, id2))\n",
    "\n",
    "    print('---')"
   ],
   "metadata": {
    "execution": {
     "iopub.status.busy": "2022-09-05T11:52:44.567131Z",
     "iopub.execute_input": "2022-09-05T11:52:44.567685Z",
     "iopub.status.idle": "2022-09-05T11:52:46.004885Z",
     "shell.execute_reply.started": "2022-09-05T11:52:44.567631Z",
     "shell.execute_reply": "2022-09-05T11:52:46.00376Z"
    },
    "trusted": true,
    "ExecuteTime": {
     "end_time": "2023-12-18T06:02:35.962207302Z",
     "start_time": "2023-12-18T06:02:35.553720539Z"
    }
   },
   "execution_count": 99,
   "outputs": [
    {
     "name": "stdout",
     "output_type": "stream",
     "text": [
      "[ 0  1  2  3  4  6  7  8  9 10]\n",
      "[ 5 11 13 14 22 30 34 37 40 41]\n",
      "[]\n",
      "---\n",
      "[ 0  1  2  5  8 10 11 12 13 14]\n",
      "[ 3  4  6  7  9 15 17 24 39 49]\n",
      "[]\n",
      "---\n",
      "[ 0  2  3  4  5  6  7  8  9 11]\n",
      "[ 1 10 12 19 21 25 29 33 35 36]\n",
      "[]\n",
      "---\n",
      "[ 1  3  4  5  6  7  8  9 10 11]\n",
      "[ 0  2 16 26 28 31 32 42 48 61]\n",
      "[]\n",
      "---\n",
      "[ 0  1  2  3  4  5  6  7  9 10]\n",
      "[ 8 18 20 23 27 43 45 55 58 63]\n",
      "[]\n",
      "---\n",
      "CPU times: user 393 ms, sys: 7.95 ms, total: 401 ms\n",
      "Wall time: 398 ms\n"
     ]
    }
   ]
  },
  {
   "cell_type": "markdown",
   "source": [],
   "metadata": {}
  },
  {
   "cell_type": "code",
   "source": [
    "# Taken from notebook\n",
    "from sklearn.model_selection._split import _BaseKFold, indexable, _num_samples\n",
    "from sklearn.utils.validation import _deprecate_positional_args\n",
    "\n",
    "# https://github.com/getgaurav2/scikit-learn/blob/d4a3af5cc9da3a76f0266932644b884c99724c57/sklearn/model_selection/_split.py#L2243\n",
    "class GroupTimeSeriesSplit(_BaseKFold):\n",
    "    \"\"\"\n",
    "    Time Series cross-validator variant with non-overlapping groups.\n",
    "    Provides train/test indices to split time series data samples\n",
    "    that are observed at fixed time intervals according to a\n",
    "    third-party provided group.\n",
    "    \n",
    "    In each split, test indices must be higher than before, and thus shuffling\n",
    "    in cross validator is inappropriate.\n",
    "    \n",
    "    This cross-validation object is a variation of :class:`KFold`.\n",
    "    In the kth split, it returns first k folds as train set and the\n",
    "    (k+1)th fold as test set.\n",
    "    \n",
    "    The same group will not appear in two different folds (the number of\n",
    "    distinct groups has to be at least equal to the number of folds).\n",
    "    Note that unlike standard cross-validation methods, successive\n",
    "    training sets are supersets of those that come before them.\n",
    "    Read more in the :ref:`User Guide <cross_validation>`.\n",
    "    Parameters\n",
    "    ----------\n",
    "    n_splits : int, default=5\n",
    "        Number of splits. Must be at least 2.\n",
    "    max_train_size : int, default=None\n",
    "        Maximum size for a single training set.\n",
    "    Examples\n",
    "    --------\n",
    "    >>> import numpy as np\n",
    "    >>> from sklearn.model_selection import GroupTimeSeriesSplit\n",
    "    >>> groups = np.array(['a', 'a', 'a', 'a', 'a', 'a',\\\n",
    "                           'b', 'b', 'b', 'b', 'b',\\\n",
    "                           'c', 'c', 'c', 'c',\\\n",
    "                           'd', 'd', 'd'])\n",
    "    >>> gtss = GroupTimeSeriesSplit(n_splits=3)\n",
    "    >>> for train_idx, test_idx in gtss.split(groups, groups=groups):\n",
    "    ...     print(\"TRAIN:\", train_idx, \"TEST:\", test_idx)\n",
    "    ...     print(\"TRAIN GROUP:\", groups[train_idx],\\\n",
    "                  \"TEST GROUP:\", groups[test_idx])\n",
    "    TRAIN: [0, 1, 2, 3, 4, 5] TEST: [6, 7, 8, 9, 10]\n",
    "    TRAIN GROUP: ['a' 'a' 'a' 'a' 'a' 'a']\\\n",
    "    TEST GROUP: ['b' 'b' 'b' 'b' 'b']\n",
    "    TRAIN: [0, 1, 2, 3, 4, 5, 6, 7, 8, 9, 10] TEST: [11, 12, 13, 14]\n",
    "    TRAIN GROUP: ['a' 'a' 'a' 'a' 'a' 'a' 'b' 'b' 'b' 'b' 'b']\\\n",
    "    TEST GROUP: ['c' 'c' 'c' 'c']\n",
    "    TRAIN: [0, 1, 2, 3, 4, 5, 6, 7, 8, 9, 10, 11, 12, 13, 14]\\\n",
    "    TEST: [15, 16, 17]\n",
    "    TRAIN GROUP: ['a' 'a' 'a' 'a' 'a' 'a' 'b' 'b' 'b' 'b' 'b' 'c' 'c' 'c' 'c']\\\n",
    "    TEST GROUP: ['d' 'd' 'd']\n",
    "    \"\"\"\n",
    "    @_deprecate_positional_args\n",
    "    def __init__(self,\n",
    "                 n_splits=5,\n",
    "                 *,\n",
    "                 max_train_size=None\n",
    "                 ):\n",
    "        super().__init__(n_splits, shuffle=False, random_state=None)\n",
    "        self.max_train_size = max_train_size\n",
    "\n",
    "    def split(self, X, y=None, groups=None):\n",
    "        \"\"\"\n",
    "        Generate indices to split data into training and test set.\n",
    "        Parameters\n",
    "        ----------\n",
    "        X : array-like of shape (n_samples, n_features)\n",
    "            Training data, where n_samples is the number of samples\n",
    "            and n_features is the number of features.\n",
    "        y : array-like of shape (n_samples,)\n",
    "            Always ignored, exists for compatibility.\n",
    "        groups : array-like of shape (n_samples,)\n",
    "            Group labels for the samples used while splitting the dataset into\n",
    "            train/test set.\n",
    "        Yields\n",
    "        ------\n",
    "        train : ndarray\n",
    "            The training set indices for that split.\n",
    "        test : ndarray\n",
    "            The testing set indices for that split.\n",
    "        \"\"\"\n",
    "        if groups is None:\n",
    "            raise ValueError(\n",
    "                \"The 'groups' parameter should not be None\")\n",
    "        X, y, groups = indexable(X, y, groups)\n",
    "        n_samples = _num_samples(X)\n",
    "        n_splits = self.n_splits\n",
    "        n_folds = n_splits + 1\n",
    "        group_dict = {}\n",
    "        u, ind = np.unique(groups, return_index=True)\n",
    "        unique_groups = u[np.argsort(ind)]\n",
    "        n_samples = _num_samples(X)\n",
    "        n_groups = _num_samples(unique_groups)\n",
    "        for idx in np.arange(n_samples):\n",
    "            if (groups[idx] in group_dict):\n",
    "                group_dict[groups[idx]].append(idx)\n",
    "            else:\n",
    "                group_dict[groups[idx]] = [idx]\n",
    "        if n_folds > n_groups:\n",
    "            raise ValueError((\"Cannot have number of folds={0} greater than the number of groups={1}\").format(n_folds, n_groups))\n",
    "        \n",
    "        group_test_size = n_groups // n_folds\n",
    "        group_test_starts = range(\n",
    "            n_groups - n_splits * group_test_size,\n",
    "            n_groups, \n",
    "            group_test_size\n",
    "        )\n",
    "        for group_test_start in group_test_starts:\n",
    "            train_array = []\n",
    "            test_array = []\n",
    "            for train_group_idx in unique_groups[:group_test_start]:\n",
    "                train_array_tmp = group_dict[train_group_idx]\n",
    "                train_array = np.sort(np.unique(np.concatenate((train_array, train_array_tmp)), axis=None), axis=None)\n",
    "            train_end = train_array.size\n",
    "            if self.max_train_size and self.max_train_size < train_end:\n",
    "                train_array = train_array[train_end - self.max_train_size:train_end]\n",
    "            for test_group_idx in unique_groups[group_test_start:\n",
    "                                                group_test_start +\n",
    "                                                group_test_size]:\n",
    "                test_array_tmp = group_dict[test_group_idx]\n",
    "                test_array = np.sort(np.unique(np.concatenate((test_array, test_array_tmp)), axis=None), axis=None)\n",
    "            yield [int(i) for i in train_array], [int(i) for i in test_array]"
   ],
   "metadata": {
    "ExecuteTime": {
     "end_time": "2023-12-18T06:02:36.000619862Z",
     "start_time": "2023-12-18T06:02:35.958133051Z"
    }
   },
   "execution_count": 100,
   "outputs": []
  },
  {
   "cell_type": "markdown",
   "source": [
    "Let's see how it performs:"
   ],
   "metadata": {}
  },
  {
   "cell_type": "code",
   "source": [
    "# sanity check\n",
    "for train_idx, test_idx in GroupTimeSeriesSplit().split(xtrain, groups = pd.DataFrame(time_train)['time_id']):\n",
    "    id1 = time_train.loc[train_idx].unique()\n",
    "    id2 = time_train.loc[test_idx].unique()\n",
    "    \n",
    "    print(id1[0: 25])\n",
    "    print(id2[0: 25])\n",
    "    print(np.intersect1d(id1, id2))    \n",
    "    \n",
    "    print('---')"
   ],
   "metadata": {
    "ExecuteTime": {
     "end_time": "2023-12-18T06:03:19.044531779Z",
     "start_time": "2023-12-18T06:02:36.000419332Z"
    }
   },
   "execution_count": 101,
   "outputs": [
    {
     "name": "stdout",
     "output_type": "stream",
     "text": [
      "[ 0  1  2  3  4  5  6  7  8  9 10 11 12 13 14 15 16 17 18 19 20 21 22 23\n",
      " 24]\n",
      "[182 183 184 185 186 187 188 189 190 191 192 193 194 195 196 197 198 199\n",
      " 200 201 202 203 204 205 206]\n",
      "[]\n",
      "---\n",
      "[ 0  1  2  3  4  5  6  7  8  9 10 11 12 13 14 15 16 17 18 19 20 21 22 23\n",
      " 24]\n",
      "[365 366 367 373 374 375 376 377 378 379 380 381 383 384 385 386 387 388\n",
      " 389 390 391 392 393 394 395]\n",
      "[]\n",
      "---\n",
      "[ 0  1  2  3  4  5  6  7  8  9 10 11 12 13 14 15 16 17 18 19 20 21 22 23\n",
      " 24]\n",
      "[555 556 557 558 559 560 561 562 563 564 565 566 567 568 569 570 571 572\n",
      " 573 574 575 576 577 578 579]\n",
      "[]\n",
      "---\n",
      "[ 0  1  2  3  4  5  6  7  8  9 10 11 12 13 14 15 16 17 18 19 20 21 22 23\n",
      " 24]\n",
      "[737 738 739 740 741 742 743 744 745 746 747 748 749 750 751 752 753 754\n",
      " 755 756 757 758 759 760 761]\n",
      "[]\n",
      "---\n",
      "[ 0  1  2  3  4  5  6  7  8  9 10 11 12 13 14 15 16 17 18 19 20 21 22 23\n",
      " 24]\n",
      "[919 920 921 922 923 924 925 926 927 928 929 930 931 932 933 934 935 936\n",
      " 937 938 939 940 941 942 943]\n",
      "[]\n",
      "---\n"
     ]
    }
   ]
  },
  {
   "cell_type": "markdown",
   "source": [
    "# comments / Observations"
   ],
   "metadata": {
    "collapsed": false
   }
  },
  {
   "cell_type": "code",
   "source": [
    "res_vec = np.zeros((Config.nfolds, 1))\n",
    "\n",
    "for (ii, (id0, id1)) in enumerate(GroupTimeSeriesSplit().split(xtrain, groups = pd.DataFrame(time_train)['time_id'])):\n",
    "    x0, x1 = xtrain.loc[id0], xtrain.loc[id1]\n",
    "    y0, y1 = ytrain.loc[id0], ytrain.loc[id1]\n",
    "    \n",
    "    model = lgb.LGBMRegressor(**lgb_parameters)\n",
    "\n",
    "    model.fit(\n",
    "        x0, \n",
    "        y0, \n",
    "        eval_metric='rmse', \n",
    "        eval_set=[(x0, y0), (x1, y1)],\n",
    "        callbacks=[wandb_callback]\n",
    "    )\n",
    "    \n",
    "    val_preds = model.predict(x1)\n",
    "    prv[:, ii] += model.predict(xtest) / Config.nfolds\n",
    "    \n",
    "    # validation score    \n",
    "    score = np.round(p(val_preds, y1)[0],4)\n",
    "    res_vec[ii] = score\n",
    "    print(f\"validation score: {str(score)}\")\n",
    "\n",
    "    # actual test performance\n",
    "    test_preds = model.predict(xtest)\n",
    "    score = np.round(p(test_preds, ytest)[0], 4)\n",
    "    print(f\"test score: {str(score)}\")\n",
    "\n",
    "    del model, x0, x1, y0, y1"
   ],
   "metadata": {
    "ExecuteTime": {
     "end_time": "2023-12-18T06:04:54.232434543Z",
     "start_time": "2023-12-18T06:03:19.044338102Z"
    }
   },
   "execution_count": 102,
   "outputs": [
    {
     "name": "stderr",
     "output_type": "stream",
     "text": [
      "/home/noone/Documents/GitHub/ubiquant/.venv/lib/python3.11/site-packages/lightgbm/engine.py:172: UserWarning: Found `num_iterations` in params. Will use it instead of argument\n",
      "  _log_warning(f\"Found `{alias}` in params. Will use it instead of argument\")\n"
     ]
    },
    {
     "name": "stdout",
     "output_type": "stream",
     "text": [
      "[LightGBM] [Info] This is the GPU trainer!!\n",
      "[LightGBM] [Info] Total Bins 76500\n",
      "[LightGBM] [Info] Number of data points in the train set: 410506, number of used features: 300\n",
      "[LightGBM] [Info] Using requested OpenCL platform 0 device 0\n",
      "[LightGBM] [Info] Using GPU Device: NVIDIA GeForce RTX 3090, Vendor: NVIDIA Corporation\n",
      "[LightGBM] [Info] Compiling OpenCL Kernel with 256 bins...\n",
      "[LightGBM] [Info] GPU programs have been built\n",
      "[LightGBM] [Info] Size of histogram bin entry: 8\n",
      "[LightGBM] [Info] 299 dense feature groups (117.45 MB) transferred to GPU in 0.020269 secs. 1 sparse feature groups\n",
      "[LightGBM] [Info] Start training from score -0.023303\n",
      "validation score: 0.1296\n",
      "test score: 0.0772\n"
     ]
    },
    {
     "name": "stderr",
     "output_type": "stream",
     "text": [
      "/home/noone/Documents/GitHub/ubiquant/.venv/lib/python3.11/site-packages/lightgbm/engine.py:172: UserWarning: Found `num_iterations` in params. Will use it instead of argument\n",
      "  _log_warning(f\"Found `{alias}` in params. Will use it instead of argument\")\n"
     ]
    },
    {
     "name": "stdout",
     "output_type": "stream",
     "text": [
      "[LightGBM] [Info] This is the GPU trainer!!\n",
      "[LightGBM] [Info] Total Bins 76500\n",
      "[LightGBM] [Info] Number of data points in the train set: 803959, number of used features: 300\n",
      "[LightGBM] [Info] Using requested OpenCL platform 0 device 0\n",
      "[LightGBM] [Info] Using GPU Device: NVIDIA GeForce RTX 3090, Vendor: NVIDIA Corporation\n",
      "[LightGBM] [Info] Compiling OpenCL Kernel with 256 bins...\n",
      "[LightGBM] [Info] GPU programs have been built\n",
      "[LightGBM] [Info] Size of histogram bin entry: 8\n",
      "[LightGBM] [Info] 299 dense feature groups (230.01 MB) transferred to GPU in 0.040126 secs. 1 sparse feature groups\n",
      "[LightGBM] [Info] Start training from score -0.035888\n",
      "validation score: 0.1463\n",
      "test score: 0.0883\n"
     ]
    },
    {
     "name": "stderr",
     "output_type": "stream",
     "text": [
      "/home/noone/Documents/GitHub/ubiquant/.venv/lib/python3.11/site-packages/lightgbm/engine.py:172: UserWarning: Found `num_iterations` in params. Will use it instead of argument\n",
      "  _log_warning(f\"Found `{alias}` in params. Will use it instead of argument\")\n"
     ]
    },
    {
     "name": "stdout",
     "output_type": "stream",
     "text": [
      "[LightGBM] [Info] This is the GPU trainer!!\n",
      "[LightGBM] [Info] Total Bins 76500\n",
      "[LightGBM] [Info] Number of data points in the train set: 1189677, number of used features: 300\n",
      "[LightGBM] [Info] Using requested OpenCL platform 0 device 0\n",
      "[LightGBM] [Info] Using GPU Device: NVIDIA GeForce RTX 3090, Vendor: NVIDIA Corporation\n",
      "[LightGBM] [Info] Compiling OpenCL Kernel with 256 bins...\n",
      "[LightGBM] [Info] GPU programs have been built\n",
      "[LightGBM] [Info] Size of histogram bin entry: 8\n",
      "[LightGBM] [Info] 299 dense feature groups (340.37 MB) transferred to GPU in 0.076225 secs. 1 sparse feature groups\n",
      "[LightGBM] [Info] Start training from score -0.033731\n",
      "validation score: 0.1221\n",
      "test score: 0.0897\n"
     ]
    },
    {
     "name": "stderr",
     "output_type": "stream",
     "text": [
      "/home/noone/Documents/GitHub/ubiquant/.venv/lib/python3.11/site-packages/lightgbm/engine.py:172: UserWarning: Found `num_iterations` in params. Will use it instead of argument\n",
      "  _log_warning(f\"Found `{alias}` in params. Will use it instead of argument\")\n"
     ]
    },
    {
     "name": "stdout",
     "output_type": "stream",
     "text": [
      "[LightGBM] [Info] This is the GPU trainer!!\n",
      "[LightGBM] [Info] Total Bins 76500\n",
      "[LightGBM] [Info] Number of data points in the train set: 1656468, number of used features: 300\n",
      "[LightGBM] [Info] Using requested OpenCL platform 0 device 0\n",
      "[LightGBM] [Info] Using GPU Device: NVIDIA GeForce RTX 3090, Vendor: NVIDIA Corporation\n",
      "[LightGBM] [Info] Compiling OpenCL Kernel with 256 bins...\n",
      "[LightGBM] [Info] GPU programs have been built\n",
      "[LightGBM] [Info] Size of histogram bin entry: 8\n",
      "[LightGBM] [Info] 299 dense feature groups (473.92 MB) transferred to GPU in 0.114755 secs. 1 sparse feature groups\n",
      "[LightGBM] [Info] Start training from score -0.030045\n",
      "validation score: 0.1122\n",
      "test score: 0.0982\n"
     ]
    },
    {
     "name": "stderr",
     "output_type": "stream",
     "text": [
      "/home/noone/Documents/GitHub/ubiquant/.venv/lib/python3.11/site-packages/lightgbm/engine.py:172: UserWarning: Found `num_iterations` in params. Will use it instead of argument\n",
      "  _log_warning(f\"Found `{alias}` in params. Will use it instead of argument\")\n"
     ]
    },
    {
     "name": "stdout",
     "output_type": "stream",
     "text": [
      "[LightGBM] [Info] This is the GPU trainer!!\n",
      "[LightGBM] [Info] Total Bins 76500\n",
      "[LightGBM] [Info] Number of data points in the train set: 2180292, number of used features: 300\n",
      "[LightGBM] [Info] Using requested OpenCL platform 0 device 0\n",
      "[LightGBM] [Info] Using GPU Device: NVIDIA GeForce RTX 3090, Vendor: NVIDIA Corporation\n",
      "[LightGBM] [Info] Compiling OpenCL Kernel with 256 bins...\n",
      "[LightGBM] [Info] GPU programs have been built\n",
      "[LightGBM] [Info] Size of histogram bin entry: 8\n",
      "[LightGBM] [Info] 300 dense feature groups (623.79 MB) transferred to GPU in 0.166286 secs. 0 sparse feature groups\n",
      "[LightGBM] [Info] Start training from score -0.025824\n",
      "validation score: 0.1239\n",
      "test score: 0.1154\n"
     ]
    }
   ]
  },
  {
   "cell_type": "code",
   "execution_count": 103,
   "outputs": [
    {
     "name": "stdout",
     "output_type": "stream",
     "text": [
      "GroupedTimeSeries average score across folds: 0.1268\n",
      "GroupedTimeSeries full test score: 0.1182\n",
      "CPU times: user 38.3 ms, sys: 1.22 ms, total: 39.5 ms\n",
      "Wall time: 9.13 ms\n"
     ]
    }
   ],
   "source": [
    "%%time\n",
    "# average score\n",
    "avg_score = np.round(np.mean(res_vec), 4)\n",
    "print(f\"GroupedTimeSeries average score across folds: {str(avg_score)}\")\n",
    "\n",
    "# test score\n",
    "score = np.round(p(ytest, prv.mean(axis=1))[0], 4)\n",
    "print(f\"GroupedTimeSeries full test score: {str(score)}\")"
   ],
   "metadata": {
    "collapsed": false,
    "ExecuteTime": {
     "end_time": "2023-12-18T06:04:54.248475169Z",
     "start_time": "2023-12-18T06:04:54.232297162Z"
    }
   }
  },
  {
   "cell_type": "markdown",
   "source": [
    "The validation and test scores are now a lot closer, and the RMSE for both is lower. Clearly much better. In terms of non-financial applications, the above is probably fit for purpose most of the time. \n",
    "\n",
    "In finance and trading though, the game is all about aggregation of marginal gains. And we can still do better!"
   ],
   "metadata": {}
  },
  {
   "cell_type": "markdown",
   "source": [
    "<a id=\"section-five\"></a>\n",
    "# 5) Purged Group Time Series\n",
    "\n",
    "As we have seen above, moving to Group Time Series split improves the situation. If we focus on the specific domain of this competition (finance), we can go a step further and make the validation scheme a little closer to the real situation - by exploring the nature of event times in finance:\n",
    "\n",
    "* a labelled data point in a financial time series has a trade time and an event time.\n",
    "\n",
    "* event time = when in the future the mark-to-market value of an asset reached a certain level such as a stop loss or a take profit price. \n",
    "\n",
    "* this means that labels become path-dependent, and care needs to be taken so that when computing labels we don't peek into the out-of-sample fold.\n",
    "\n",
    "Excellent example from https://blog.quantinsti.com/cross-validation-embargo-purging-combinatorial/:\n",
    "\n",
    "For a concrete example, say we are trying to build an ML model to predict whether IBM prices would move up or down in the next 5 business days by at least 50 basis points (bps) based on various data sources. The size of these movements are estimated based on recent levels of realised volatility for IBM shares. A common labelling scheme would be: +1 if the share price moves more than 50 bps, 0 if the share price moves by less than 50 bps in absolute value, and -1 if the share price moves down by more than 50 bps. Next, let's assume that our typical trading horizon is 1 week. You would enter a position today, and liquidate it one week later. Most people in practice however would have a stop loss or take profit level for a trade so that they can exit a trade earlier if either of those levels are reached. The point is that to mark-to-market your trade, you'd need to observe the price path during the next 5 days, or for the next 5 ticks (you could exit before).\n",
    "\n",
    "TL;DR **In the labelling process, we have to take care to remove data for which the event times overlap with the trade times in the test fold. This process is called purging.**\n",
    "\n",
    "\n",
    "\n",
    "We build on the code from https://www.kaggle.com/code/marketneutral/purged-time-series-cv-xgboost-optuna:\n",
    "\n",
    "- `GroupTimeSeriesSplit` is the basis \n",
    "- we add a `gap` between each train and validation split: the group aspect keeps whole days together, but anonymized features have some kind of lag or window calculations in them (results from our `KFold` section notwithstanding). By introducing a gap, we mitigate the risk that we leak information from train into validation\n",
    "- we can specify the size of the train and validation splits in terms of number of days.\n",
    "- the sizes of the train, gap, and valid sets respect the different number of samples per day. \n",
    "- you can split the data on number of days in the validation set, number of days gap between, and number of days in the train set.\n",
    "\n",
    "You can see in the \"group\" bars that the days are different lengths."
   ],
   "metadata": {},
   "attachments": {
    "cc3cb13a-5a24-4c30-b9f7-7f16e37a4981.png": {
     "image/png": "[encoded data removed]"
    }
   }
  },
  {
   "cell_type": "markdown",
   "source": [],
   "metadata": {
    "collapsed": false
   }
  },
  {
   "cell_type": "code",
   "source": [
    "class PurgedGroupTimeSeriesSplit(_BaseKFold):\n",
    "    \"\"\"\n",
    "    Time Series cross-validator variant with non-overlapping groups.\n",
    "    Allows for a gap in groups to avoid potentially leaking info from\n",
    "    train into test if the model has windowed or lag features.\n",
    "    \n",
    "    Provides train/test indices to split time series data samples\n",
    "    that are observed at fixed time intervals according to a\n",
    "    third-party provided group.\n",
    "    \n",
    "    In each split, test indices must be higher than before, and thus shuffling\n",
    "    in cross validator is inappropriate.\n",
    "    \n",
    "    This cross-validation object is a variation of :class:`KFold`.\n",
    "    In the kth split, it returns first k folds as train set and the\n",
    "    (k+1)th fold as test set.\n",
    "    \n",
    "    The same group will not appear in two different folds (the number of\n",
    "    distinct groups has to be at least equal to the number of folds).\n",
    "    \n",
    "    Note that unlike standard cross-validation methods, successive\n",
    "    training sets are supersets of those that come before them.\n",
    "    Read more in the :ref:`User Guide <cross_validation>`.\n",
    "    \n",
    "    Parameters\n",
    "    ----------\n",
    "    n_splits : int, default=5\n",
    "        Number of splits. Must be at least 2.\n",
    "    max_train_group_size : int, default=Inf\n",
    "        Maximum group size for a single training set.\n",
    "    group_gap : int, default=None\n",
    "        Gap between train and test\n",
    "    max_test_group_size : int, default=Inf\n",
    "        We discard this number of groups from the end of each train split\n",
    "    \"\"\"\n",
    "\n",
    "    @_deprecate_positional_args\n",
    "    def __init__(self,\n",
    "                 n_splits=5,\n",
    "                 *,\n",
    "                 max_train_group_size=np.inf,\n",
    "                 max_test_group_size=np.inf,\n",
    "                 group_gap=None,\n",
    "                 verbose=False\n",
    "                 ):\n",
    "        super().__init__(n_splits, shuffle=False, random_state=None)\n",
    "        self.max_train_group_size = max_train_group_size\n",
    "        self.group_gap = group_gap\n",
    "        self.max_test_group_size = max_test_group_size\n",
    "        self.verbose = verbose\n",
    "\n",
    "    def split(self, X, y=None, groups=None):\n",
    "        \"\"\"Generate indices to split data into training and test set.\n",
    "        Parameters\n",
    "        ----------\n",
    "        X : array-like of shape (n_samples, n_features)\n",
    "            Training data, where n_samples is the number of samples\n",
    "            and n_features is the number of features.\n",
    "        y : array-like of shape (n_samples,)\n",
    "            Always ignored, exists for compatibility.\n",
    "        groups : array-like of shape (n_samples,)\n",
    "            Group labels for the samples used while splitting the dataset into\n",
    "            train/test set.\n",
    "        Yields\n",
    "        ------\n",
    "        train : ndarray\n",
    "            The training set indices for that split.\n",
    "        test : ndarray\n",
    "            The testing set indices for that split.\n",
    "        \"\"\"\n",
    "        if groups is None:\n",
    "            raise ValueError(\n",
    "                \"The 'groups' parameter should not be None\")\n",
    "        X, y, groups = indexable(X, y, groups)\n",
    "        n_samples = _num_samples(X)\n",
    "        n_splits = self.n_splits\n",
    "        group_gap = self.group_gap\n",
    "        max_test_group_size = self.max_test_group_size\n",
    "        max_train_group_size = self.max_train_group_size\n",
    "        n_folds = n_splits + 1\n",
    "        group_dict = {}\n",
    "        u, ind = np.unique(groups, return_index=True)\n",
    "        unique_groups = u[np.argsort(ind)]\n",
    "        n_samples = _num_samples(X)\n",
    "        n_groups = _num_samples(unique_groups)\n",
    "        for idx in np.arange(n_samples):\n",
    "            if (groups[idx] in group_dict):\n",
    "                group_dict[groups[idx]].append(idx)\n",
    "            else:\n",
    "                group_dict[groups[idx]] = [idx]\n",
    "        if n_folds > n_groups:\n",
    "            raise ValueError((\"Cannot have number of folds={0} greater than the number of groups={1}\").format(n_folds, n_groups))\n",
    "\n",
    "        group_test_size = min(n_groups // n_folds, max_test_group_size)\n",
    "        group_test_starts = range(\n",
    "            n_groups - n_splits * group_test_size,\n",
    "            n_groups, \n",
    "            group_test_size\n",
    "        )\n",
    "        for group_test_start in group_test_starts:\n",
    "            train_array = []\n",
    "            test_array = []\n",
    "\n",
    "            group_st = max(0, group_test_start - group_gap - max_train_group_size)\n",
    "            for train_group_idx in unique_groups[group_st:(group_test_start - group_gap)]:\n",
    "                train_array_tmp = group_dict[train_group_idx]\n",
    "                train_array = np.sort(np.unique(np.concatenate((train_array, train_array_tmp)), axis=None), axis=None)\n",
    "\n",
    "            train_end = train_array.size\n",
    " \n",
    "            for test_group_idx in unique_groups[group_test_start:\n",
    "                                                group_test_start +\n",
    "                                                group_test_size]:\n",
    "                test_array_tmp = group_dict[test_group_idx]\n",
    "                test_array = np.sort(np.unique(np.concatenate((test_array, test_array_tmp)), axis=None), axis=None)\n",
    "\n",
    "            test_array  = test_array[group_gap:]\n",
    "            \n",
    "            if self.verbose > 0:\n",
    "                    pass\n",
    "                    \n",
    "            yield [int(i) for i in train_array], [int(i) for i in test_array]"
   ],
   "metadata": {
    "ExecuteTime": {
     "end_time": "2023-12-18T06:04:54.329188076Z",
     "start_time": "2023-12-18T06:04:54.252403593Z"
    }
   },
   "execution_count": 104,
   "outputs": []
  },
  {
   "cell_type": "code",
   "source": [
    "cv = PurgedGroupTimeSeriesSplit(\n",
    "    n_splits=5,\n",
    "    max_train_group_size=15, \n",
    "    group_gap=5, \n",
    "    max_test_group_size=5\n",
    ")"
   ],
   "metadata": {
    "ExecuteTime": {
     "end_time": "2023-12-18T06:04:54.330106146Z",
     "start_time": "2023-12-18T06:04:54.310642924Z"
    }
   },
   "execution_count": 105,
   "outputs": []
  },
  {
   "cell_type": "code",
   "source": [
    "res_vec = np.zeros((Config.nfolds, 1))\n",
    "\n",
    "for (ii, (id0, id1)) in enumerate(cv.split(xtrain, groups = pd.DataFrame(time_train)['time_id'])):\n",
    "    x0, x1 = xtrain.loc[id0], xtrain.loc[id1]\n",
    "    y0, y1 = ytrain.loc[id0], ytrain.loc[id1]\n",
    "    \n",
    "    model = lgb.LGBMRegressor(**lgb_parameters)\n",
    "\n",
    "    model.fit(\n",
    "        x0, \n",
    "        y0, \n",
    "        eval_metric='rmse', \n",
    "        eval_set=[(x0, y0), (x1, y1)],\n",
    "        callbacks=[wandb_callback]\n",
    "    )\n",
    "    \n",
    "    val_preds = model.predict(x1)\n",
    "    prv[:, ii] += model.predict(xtest) / Config.nfolds\n",
    "    \n",
    "    # validation score    \n",
    "    score = np.round(p(val_preds, y1)[0], 4)\n",
    "    res_vec[ii] = score\n",
    "    print(f\"validation score: {str(score)}\")\n",
    "\n",
    "    # actual test performance\n",
    "    test_preds = model.predict(xtest)\n",
    "    score = np.round(p(test_preds, ytest)[0], 4)\n",
    "    print(f\"test score: {str(score)}\")\n",
    "\n",
    "    del model, x0, x1, y0, y1"
   ],
   "metadata": {
    "ExecuteTime": {
     "end_time": "2023-12-18T06:05:16.092434969Z",
     "start_time": "2023-12-18T06:04:54.318008972Z"
    }
   },
   "execution_count": 106,
   "outputs": [
    {
     "name": "stderr",
     "output_type": "stream",
     "text": [
      "/home/noone/Documents/GitHub/ubiquant/.venv/lib/python3.11/site-packages/lightgbm/engine.py:172: UserWarning: Found `num_iterations` in params. Will use it instead of argument\n",
      "  _log_warning(f\"Found `{alias}` in params. Will use it instead of argument\")\n"
     ]
    },
    {
     "name": "stdout",
     "output_type": "stream",
     "text": [
      "[LightGBM] [Info] This is the GPU trainer!!\n",
      "[LightGBM] [Info] Total Bins 76500\n",
      "[LightGBM] [Info] Number of data points in the train set: 47611, number of used features: 300\n",
      "[LightGBM] [Info] Using requested OpenCL platform 0 device 0\n",
      "[LightGBM] [Info] Using GPU Device: NVIDIA GeForce RTX 3090, Vendor: NVIDIA Corporation\n",
      "[LightGBM] [Info] Compiling OpenCL Kernel with 256 bins...\n",
      "[LightGBM] [Info] GPU programs have been built\n",
      "[LightGBM] [Info] Size of histogram bin entry: 8\n",
      "[LightGBM] [Info] 300 dense feature groups (13.62 MB) transferred to GPU in 0.004798 secs. 0 sparse feature groups\n",
      "[LightGBM] [Info] Start training from score -0.020561\n",
      "validation score: 0.1121\n",
      "test score: 0.0713\n"
     ]
    },
    {
     "name": "stderr",
     "output_type": "stream",
     "text": [
      "/home/noone/Documents/GitHub/ubiquant/.venv/lib/python3.11/site-packages/lightgbm/engine.py:172: UserWarning: Found `num_iterations` in params. Will use it instead of argument\n",
      "  _log_warning(f\"Found `{alias}` in params. Will use it instead of argument\")\n"
     ]
    },
    {
     "name": "stdout",
     "output_type": "stream",
     "text": [
      "[LightGBM] [Info] This is the GPU trainer!!\n",
      "[LightGBM] [Info] Total Bins 76500\n",
      "[LightGBM] [Info] Number of data points in the train set: 47500, number of used features: 300\n",
      "[LightGBM] [Info] Using requested OpenCL platform 0 device 0\n",
      "[LightGBM] [Info] Using GPU Device: NVIDIA GeForce RTX 3090, Vendor: NVIDIA Corporation\n",
      "[LightGBM] [Info] Compiling OpenCL Kernel with 256 bins...\n",
      "[LightGBM] [Info] GPU programs have been built\n",
      "[LightGBM] [Info] Size of histogram bin entry: 8\n",
      "[LightGBM] [Info] 300 dense feature groups (13.59 MB) transferred to GPU in 0.004732 secs. 0 sparse feature groups\n",
      "[LightGBM] [Info] Start training from score -0.010528\n",
      "validation score: 0.0509\n",
      "test score: 0.0747\n"
     ]
    },
    {
     "name": "stderr",
     "output_type": "stream",
     "text": [
      "/home/noone/Documents/GitHub/ubiquant/.venv/lib/python3.11/site-packages/lightgbm/engine.py:172: UserWarning: Found `num_iterations` in params. Will use it instead of argument\n",
      "  _log_warning(f\"Found `{alias}` in params. Will use it instead of argument\")\n"
     ]
    },
    {
     "name": "stdout",
     "output_type": "stream",
     "text": [
      "[LightGBM] [Info] This is the GPU trainer!!\n",
      "[LightGBM] [Info] Total Bins 76500\n",
      "[LightGBM] [Info] Number of data points in the train set: 47479, number of used features: 300\n",
      "[LightGBM] [Info] Using requested OpenCL platform 0 device 0\n",
      "[LightGBM] [Info] Using GPU Device: NVIDIA GeForce RTX 3090, Vendor: NVIDIA Corporation\n",
      "[LightGBM] [Info] Compiling OpenCL Kernel with 256 bins...\n",
      "[LightGBM] [Info] GPU programs have been built\n",
      "[LightGBM] [Info] Size of histogram bin entry: 8\n",
      "[LightGBM] [Info] 300 dense feature groups (13.58 MB) transferred to GPU in 0.004877 secs. 0 sparse feature groups\n",
      "[LightGBM] [Info] Start training from score -0.006251\n",
      "validation score: 0.0506\n",
      "test score: 0.0678\n"
     ]
    },
    {
     "name": "stderr",
     "output_type": "stream",
     "text": [
      "/home/noone/Documents/GitHub/ubiquant/.venv/lib/python3.11/site-packages/lightgbm/engine.py:172: UserWarning: Found `num_iterations` in params. Will use it instead of argument\n",
      "  _log_warning(f\"Found `{alias}` in params. Will use it instead of argument\")\n"
     ]
    },
    {
     "name": "stdout",
     "output_type": "stream",
     "text": [
      "[LightGBM] [Info] This is the GPU trainer!!\n",
      "[LightGBM] [Info] Total Bins 76500\n",
      "[LightGBM] [Info] Number of data points in the train set: 47445, number of used features: 300\n",
      "[LightGBM] [Info] Using requested OpenCL platform 0 device 0\n",
      "[LightGBM] [Info] Using GPU Device: NVIDIA GeForce RTX 3090, Vendor: NVIDIA Corporation\n",
      "[LightGBM] [Info] Compiling OpenCL Kernel with 256 bins...\n",
      "[LightGBM] [Info] GPU programs have been built\n",
      "[LightGBM] [Info] Size of histogram bin entry: 8\n",
      "[LightGBM] [Info] 300 dense feature groups (13.57 MB) transferred to GPU in 0.005093 secs. 0 sparse feature groups\n",
      "[LightGBM] [Info] Start training from score 0.002360\n",
      "validation score: -0.0381\n",
      "test score: 0.0841\n"
     ]
    },
    {
     "name": "stderr",
     "output_type": "stream",
     "text": [
      "/home/noone/Documents/GitHub/ubiquant/.venv/lib/python3.11/site-packages/lightgbm/engine.py:172: UserWarning: Found `num_iterations` in params. Will use it instead of argument\n",
      "  _log_warning(f\"Found `{alias}` in params. Will use it instead of argument\")\n"
     ]
    },
    {
     "name": "stdout",
     "output_type": "stream",
     "text": [
      "[LightGBM] [Info] This is the GPU trainer!!\n",
      "[LightGBM] [Info] Total Bins 76500\n",
      "[LightGBM] [Info] Number of data points in the train set: 46125, number of used features: 300\n",
      "[LightGBM] [Info] Using requested OpenCL platform 0 device 0\n",
      "[LightGBM] [Info] Using GPU Device: NVIDIA GeForce RTX 3090, Vendor: NVIDIA Corporation\n",
      "[LightGBM] [Info] Compiling OpenCL Kernel with 256 bins...\n",
      "[LightGBM] [Info] GPU programs have been built\n",
      "[LightGBM] [Info] Size of histogram bin entry: 8\n",
      "[LightGBM] [Info] 300 dense feature groups (13.20 MB) transferred to GPU in 0.004763 secs. 0 sparse feature groups\n",
      "[LightGBM] [Info] Start training from score 0.021580\n",
      "validation score: 0.0615\n",
      "test score: 0.0704\n"
     ]
    }
   ]
  },
  {
   "cell_type": "code",
   "execution_count": 107,
   "outputs": [
    {
     "name": "stdout",
     "output_type": "stream",
     "text": [
      "PurgedGroupTimeSeries average score across folds: 0.0474\n",
      "PurgedGroupTimeSeries full test score: 0.1253\n",
      "CPU times: user 35.3 ms, sys: 373 ms, total: 409 ms\n",
      "Wall time: 14.2 ms\n"
     ]
    }
   ],
   "source": [
    "%%time\n",
    "# average score\n",
    "avg_score = np.round(np.mean(res_vec), 4)\n",
    "print(f\"PurgedGroupTimeSeries average score across folds: {str(avg_score)}\")\n",
    "\n",
    "# test score\n",
    "score = np.round(p(ytest, prv.mean(axis=1))[0], 4)\n",
    "print(f\"PurgedGroupTimeSeries full test score: {str(score)}\")"
   ],
   "metadata": {
    "collapsed": false,
    "ExecuteTime": {
     "end_time": "2023-12-18T06:05:16.097559820Z",
     "start_time": "2023-12-18T06:05:16.073473938Z"
    }
   }
  },
  {
   "cell_type": "markdown",
   "source": [
    "## Conclusions:\n",
    "- We can see a nice reduction in RMSE for both validation and test scores. \n",
    "- This means an improvement in performance. \n",
    "- We also see a relatively small difference between RMSE for validation and test, so we're still see less overfitting than our early experiments.\n",
    "\n",
    "In this case, a purge has given us an uplift!"
   ],
   "metadata": {}
  },
  {
   "cell_type": "markdown",
   "source": [
    "<a id=\"section-six\"></a>\n",
    "\n",
    "# 6) Combinatorial purged group KFold\n",
    "\n",
    "While the approaches demonstrated above differ in several aspects, they share one characteristic: each of them only tests a single path $\\rightarrow$ no counterfactuals possible; \n",
    "a single backtest path is simulated $\\rightarrow$ one and only one forecast is generated per observation. \n",
    "\n",
    "Alternative approach: some combinatorial tricks to **generate multiple backtest paths**.\n"
   ],
   "metadata": {}
  },
  {
   "cell_type": "markdown",
   "source": [
    "How does it work in practice https://towardsai.net/p/l/the-combinatorial-purged-cross-validation-method4\n",
    "\n",
    "CPCV provides the exact number of combinations of training/testing sets required to construct a set of backtesting paths while purging training observations that contain leaked information, given a set of backtest paths targeted by the researcher.\n",
    "\n",
    "First, we have our data, say 1000 data points. Imagine we want to split those 1000 datapoints into 6 groups. Of these 6 groups, we want 2 test groups (figure below)."
   ],
   "metadata": {},
   "attachments": {
    "fea20e82-08aa-44cc-bee1-4b71ff77af4a.jpeg": {
     "image/jpeg": "[encoded data removed]"
    }
   }
  },
  {
   "cell_type": "markdown",
   "source": [
    "How many data splits are possible? \n",
    "\n",
    "\\begin{equation}\n",
    "\\binom{6}{6-2}= 15\n",
    "\\end{equation}\n",
    "\n",
    "Every split involves k=2 tested groups, which means that the total amount of testing groups is k * N_splits, which is 30. Moreover, since we have computed all possible combinations, these tested groups are uniformly distributed across all $N$. Therefore, there is a total number of paths 30 / 6 = 5 paths.\n",
    "\n",
    "Figure 1 indicates the groups that make up the testing set with an x and leaves the groups that make up the training set unmarked for each split. This train/test split technique allows us to compute 5 backtest pathways because each group is a member of $\\phi$[6, 2] = 5 testing sets.\n",
    "\n",
    "For a detailed description We take the implementation from [here](https://www.kaggle.com/code/gogo827jz/combinatorial-purged-group-k-fold)"
   ],
   "metadata": {}
  },
  {
   "cell_type": "code",
   "source": [
    "import numpy as np\n",
    "from scipy.special import comb\n",
    "from itertools import combinations\n",
    "\n",
    "class CombinatorialPurgedGroupKFold():\n",
    "    def __init__(self, n_splits=6, n_test_splits=2, purge=1, pctEmbargo=0.01, **kwargs):\n",
    "        self.n_splits = n_splits\n",
    "        self.n_test_splits = n_test_splits\n",
    "        self.purge = purge\n",
    "        self.pctEmbargo = pctEmbargo\n",
    "        \n",
    "    def split(self, X, y=None, groups=None):\n",
    "        if groups is None:\n",
    "            raise ValueError(\n",
    "                \"The 'groups' parameter should not be None\")\n",
    "            \n",
    "        u, ind = np.unique(groups, return_index=True)\n",
    "        unique_groups = u[np.argsort(ind)]\n",
    "        n_groups = len(unique_groups)\n",
    "        group_dict = {}\n",
    "        for idx in range(len(X)):\n",
    "            if groups[idx] in group_dict:\n",
    "                group_dict[groups[idx]].append(idx)\n",
    "            else:\n",
    "                group_dict[groups[idx]] = [idx]\n",
    "                \n",
    "        n_folds = comb(self.n_splits, self.n_test_splits, exact=True)\n",
    "        if n_folds > n_groups:\n",
    "            raise ValueError((\"Cannot have number of folds={0} greater than the number of groups={1}\").format(n_folds, n_groups))\n",
    "            \n",
    "        mbrg = int(n_groups * self.pctEmbargo)\n",
    "        if mbrg < 0:\n",
    "            raise ValueError(\"The number of 'embargoed' groups should not be negative\")\n",
    "        \n",
    "        split_dict = {}\n",
    "        group_test_size = n_groups // self.n_splits\n",
    "        for split in range(self.n_splits):\n",
    "            if split == self.n_splits - 1:\n",
    "                split_dict[split] = unique_groups[int(split * group_test_size):].tolist()\n",
    "            else:\n",
    "                split_dict[split] = unique_groups[int(split * group_test_size):int((split + 1) * group_test_size)].tolist()\n",
    "        \n",
    "        for test_splits in combinations(range(self.n_splits), self.n_test_splits):\n",
    "            test_groups = []\n",
    "            banned_groups = []\n",
    "            for split in test_splits:\n",
    "                test_groups += split_dict[split]\n",
    "                banned_groups += unique_groups[split_dict[split][0] - self.purge:split_dict[split][0]].tolist()\n",
    "                banned_groups += unique_groups[split_dict[split][-1] + 1:split_dict[split][-1] + self.purge + mbrg + 1].tolist()\n",
    "            train_groups = [i for i in unique_groups if (i not in banned_groups) and (i not in test_groups)]\n",
    "\n",
    "            train_idx = []\n",
    "            test_idx = []\n",
    "            for train_group in train_groups:\n",
    "                train_idx += group_dict[train_group]\n",
    "            for test_group in test_groups:\n",
    "                test_idx += group_dict[test_group]\n",
    "            yield train_idx, test_idx"
   ],
   "metadata": {
    "ExecuteTime": {
     "end_time": "2023-12-18T06:05:16.160726738Z",
     "start_time": "2023-12-18T06:05:16.094158565Z"
    }
   },
   "execution_count": 108,
   "outputs": []
  },
  {
   "cell_type": "markdown",
   "source": [
    "What really happens? Let's test on a toy dataset:"
   ],
   "metadata": {}
  },
  {
   "cell_type": "code",
   "source": [
    "n_splits = 6\n",
    "n_test_splits = 1\n",
    "elements = list(range(10 * (n_splits + n_test_splits)))\n",
    "groups = [element // n_splits for element in elements]\n",
    "data = pd.DataFrame({\"group\": groups, \"element\": elements})\n",
    "kfold = CombinatorialPurgedGroupKFold(n_splits, n_test_splits)\n",
    "for index, (train_indices, test_indices) in enumerate(kfold.split(data, groups=data[\"group\"])):\n",
    "    print(\"=\" * 100)\n",
    "    print(f\"Fold {index}\")\n",
    "    print(\"=\" * 100)\n",
    "    print(\"Train indices:\", train_indices, \"Length:\", len(train_indices))\n",
    "    print(\"Test Indices:\", test_indices, \"Length:\", len(test_indices))"
   ],
   "metadata": {
    "ExecuteTime": {
     "end_time": "2023-12-18T06:05:16.175201818Z",
     "start_time": "2023-12-18T06:05:16.160301362Z"
    }
   },
   "execution_count": 109,
   "outputs": [
    {
     "name": "stdout",
     "output_type": "stream",
     "text": [
      "====================================================================================================\n",
      "Fold 0\n",
      "====================================================================================================\n",
      "Train indices: [18, 19, 20, 21, 22, 23, 24, 25, 26, 27, 28, 29, 30, 31, 32, 33, 34, 35, 36, 37, 38, 39, 40, 41, 42, 43, 44, 45, 46, 47, 48, 49, 50, 51, 52, 53, 54, 55, 56, 57, 58, 59, 60, 61, 62, 63, 64, 65, 66, 67, 68, 69] Length: 52\n",
      "Test Indices: [0, 1, 2, 3, 4, 5, 6, 7, 8, 9, 10, 11] Length: 12\n",
      "====================================================================================================\n",
      "Fold 1\n",
      "====================================================================================================\n",
      "Train indices: [0, 1, 2, 3, 4, 5, 30, 31, 32, 33, 34, 35, 36, 37, 38, 39, 40, 41, 42, 43, 44, 45, 46, 47, 48, 49, 50, 51, 52, 53, 54, 55, 56, 57, 58, 59, 60, 61, 62, 63, 64, 65, 66, 67, 68, 69] Length: 46\n",
      "Test Indices: [12, 13, 14, 15, 16, 17, 18, 19, 20, 21, 22, 23] Length: 12\n",
      "====================================================================================================\n",
      "Fold 2\n",
      "====================================================================================================\n",
      "Train indices: [0, 1, 2, 3, 4, 5, 6, 7, 8, 9, 10, 11, 12, 13, 14, 15, 16, 17, 42, 43, 44, 45, 46, 47, 48, 49, 50, 51, 52, 53, 54, 55, 56, 57, 58, 59, 60, 61, 62, 63, 64, 65, 66, 67, 68, 69] Length: 46\n",
      "Test Indices: [24, 25, 26, 27, 28, 29, 30, 31, 32, 33, 34, 35] Length: 12\n",
      "====================================================================================================\n",
      "Fold 3\n",
      "====================================================================================================\n",
      "Train indices: [0, 1, 2, 3, 4, 5, 6, 7, 8, 9, 10, 11, 12, 13, 14, 15, 16, 17, 18, 19, 20, 21, 22, 23, 24, 25, 26, 27, 28, 29, 54, 55, 56, 57, 58, 59, 60, 61, 62, 63, 64, 65, 66, 67, 68, 69] Length: 46\n",
      "Test Indices: [36, 37, 38, 39, 40, 41, 42, 43, 44, 45, 46, 47] Length: 12\n",
      "====================================================================================================\n",
      "Fold 4\n",
      "====================================================================================================\n",
      "Train indices: [0, 1, 2, 3, 4, 5, 6, 7, 8, 9, 10, 11, 12, 13, 14, 15, 16, 17, 18, 19, 20, 21, 22, 23, 24, 25, 26, 27, 28, 29, 30, 31, 32, 33, 34, 35, 36, 37, 38, 39, 40, 41, 66, 67, 68, 69] Length: 46\n",
      "Test Indices: [48, 49, 50, 51, 52, 53, 54, 55, 56, 57, 58, 59] Length: 12\n",
      "====================================================================================================\n",
      "Fold 5\n",
      "====================================================================================================\n",
      "Train indices: [0, 1, 2, 3, 4, 5, 6, 7, 8, 9, 10, 11, 12, 13, 14, 15, 16, 17, 18, 19, 20, 21, 22, 23, 24, 25, 26, 27, 28, 29, 30, 31, 32, 33, 34, 35, 36, 37, 38, 39, 40, 41, 42, 43, 44, 45, 46, 47, 48, 49, 50, 51, 52, 53] Length: 54\n",
      "Test Indices: [60, 61, 62, 63, 64, 65, 66, 67, 68, 69] Length: 10\n"
     ]
    }
   ]
  },
  {
   "cell_type": "markdown",
   "source": [
    "Moving on to complete data:"
   ],
   "metadata": {}
  },
  {
   "cell_type": "code",
   "source": [
    "n_splits = 5\n",
    "n_test_splits = 1\n",
    "kfold = CombinatorialPurgedGroupKFold(n_splits, n_test_splits)\n",
    "\n",
    "for (ii, (id0, id1)) in enumerate(kfold.split(xtrain, groups = pd.DataFrame(time_train)['time_id'])):\n",
    "    x0, x1 = xtrain.loc[id0], xtrain.loc[id1]\n",
    "    y0, y1 = ytrain.loc[id0], ytrain.loc[id1]\n",
    "    \n",
    "    model = lgb.LGBMRegressor(**lgb_parameters)\n",
    "\n",
    "    model.fit(\n",
    "        x0, \n",
    "        y0, \n",
    "        eval_metric='rmse', \n",
    "        eval_set=[(x0, y0), (x1, y1)]\n",
    "    )\n",
    "    \n",
    "    val_preds = model.predict(x1)\n",
    "    prv[:, ii] += model.predict(xtest) / Config.nfolds\n",
    "    \n",
    "    # validation score    \n",
    "    score = np.round(p(val_preds, y1)[0], 4)\n",
    "    res_vec[ii] = score\n",
    "    print(f\"validation score: {str(score)}\")\n",
    "\n",
    "    # actual test performance\n",
    "    test_preds = model.predict(xtest)\n",
    "    score = np.round(p(test_preds, ytest)[0], 4)\n",
    "    print(f\"test score: {str(score)}\")\n",
    "\n",
    "    del model, x0, x1, y0, y1"
   ],
   "metadata": {
    "ExecuteTime": {
     "end_time": "2023-12-18T06:06:44.128132118Z",
     "start_time": "2023-12-18T06:05:16.174564009Z"
    }
   },
   "execution_count": 110,
   "outputs": [
    {
     "name": "stderr",
     "output_type": "stream",
     "text": [
      "/home/noone/Documents/GitHub/ubiquant/.venv/lib/python3.11/site-packages/lightgbm/engine.py:172: UserWarning: Found `num_iterations` in params. Will use it instead of argument\n",
      "  _log_warning(f\"Found `{alias}` in params. Will use it instead of argument\")\n"
     ]
    },
    {
     "name": "stdout",
     "output_type": "stream",
     "text": [
      "[LightGBM] [Info] This is the GPU trainer!!\n",
      "[LightGBM] [Info] Total Bins 76500\n",
      "[LightGBM] [Info] Number of data points in the train set: 2231403, number of used features: 300\n",
      "[LightGBM] [Info] Using requested OpenCL platform 0 device 0\n",
      "[LightGBM] [Info] Using GPU Device: NVIDIA GeForce RTX 3090, Vendor: NVIDIA Corporation\n",
      "[LightGBM] [Info] Compiling OpenCL Kernel with 256 bins...\n",
      "[LightGBM] [Info] GPU programs have been built\n",
      "[LightGBM] [Info] Size of histogram bin entry: 8\n",
      "[LightGBM] [Info] 300 dense feature groups (638.41 MB) transferred to GPU in 0.172356 secs. 0 sparse feature groups\n",
      "[LightGBM] [Info] Start training from score -0.021814\n",
      "validation score: 0.1363\n",
      "test score: 0.1342\n"
     ]
    },
    {
     "name": "stderr",
     "output_type": "stream",
     "text": [
      "/home/noone/Documents/GitHub/ubiquant/.venv/lib/python3.11/site-packages/lightgbm/engine.py:172: UserWarning: Found `num_iterations` in params. Will use it instead of argument\n",
      "  _log_warning(f\"Found `{alias}` in params. Will use it instead of argument\")\n"
     ]
    },
    {
     "name": "stdout",
     "output_type": "stream",
     "text": [
      "[LightGBM] [Info] This is the GPU trainer!!\n",
      "[LightGBM] [Info] Total Bins 76500\n",
      "[LightGBM] [Info] Number of data points in the train set: 2274373, number of used features: 300\n",
      "[LightGBM] [Info] Using requested OpenCL platform 0 device 0\n",
      "[LightGBM] [Info] Using GPU Device: NVIDIA GeForce RTX 3090, Vendor: NVIDIA Corporation\n",
      "[LightGBM] [Info] Compiling OpenCL Kernel with 256 bins...\n",
      "[LightGBM] [Info] GPU programs have been built\n",
      "[LightGBM] [Info] Size of histogram bin entry: 8\n",
      "[LightGBM] [Info] 300 dense feature groups (650.70 MB) transferred to GPU in 0.170530 secs. 0 sparse feature groups\n",
      "[LightGBM] [Info] Start training from score -0.016464\n",
      "validation score: 0.1533\n",
      "test score: 0.1339\n"
     ]
    },
    {
     "name": "stderr",
     "output_type": "stream",
     "text": [
      "/home/noone/Documents/GitHub/ubiquant/.venv/lib/python3.11/site-packages/lightgbm/engine.py:172: UserWarning: Found `num_iterations` in params. Will use it instead of argument\n",
      "  _log_warning(f\"Found `{alias}` in params. Will use it instead of argument\")\n"
     ]
    },
    {
     "name": "stdout",
     "output_type": "stream",
     "text": [
      "[LightGBM] [Info] This is the GPU trainer!!\n",
      "[LightGBM] [Info] Total Bins 76500\n",
      "[LightGBM] [Info] Number of data points in the train set: 2195280, number of used features: 300\n",
      "[LightGBM] [Info] Using requested OpenCL platform 0 device 0\n",
      "[LightGBM] [Info] Using GPU Device: NVIDIA GeForce RTX 3090, Vendor: NVIDIA Corporation\n",
      "[LightGBM] [Info] Compiling OpenCL Kernel with 256 bins...\n",
      "[LightGBM] [Info] GPU programs have been built\n",
      "[LightGBM] [Info] Size of histogram bin entry: 8\n",
      "[LightGBM] [Info] 300 dense feature groups (628.07 MB) transferred to GPU in 0.165203 secs. 0 sparse feature groups\n",
      "[LightGBM] [Info] Start training from score -0.022170\n",
      "validation score: 0.1553\n",
      "test score: 0.1319\n"
     ]
    },
    {
     "name": "stderr",
     "output_type": "stream",
     "text": [
      "/home/noone/Documents/GitHub/ubiquant/.venv/lib/python3.11/site-packages/lightgbm/engine.py:172: UserWarning: Found `num_iterations` in params. Will use it instead of argument\n",
      "  _log_warning(f\"Found `{alias}` in params. Will use it instead of argument\")\n"
     ]
    },
    {
     "name": "stdout",
     "output_type": "stream",
     "text": [
      "[LightGBM] [Info] This is the GPU trainer!!\n",
      "[LightGBM] [Info] Total Bins 76500\n",
      "[LightGBM] [Info] Number of data points in the train set: 2108582, number of used features: 300\n",
      "[LightGBM] [Info] Using requested OpenCL platform 0 device 0\n",
      "[LightGBM] [Info] Using GPU Device: NVIDIA GeForce RTX 3090, Vendor: NVIDIA Corporation\n",
      "[LightGBM] [Info] Compiling OpenCL Kernel with 256 bins...\n",
      "[LightGBM] [Info] GPU programs have been built\n",
      "[LightGBM] [Info] Size of histogram bin entry: 8\n",
      "[LightGBM] [Info] 300 dense feature groups (603.27 MB) transferred to GPU in 0.156839 secs. 0 sparse feature groups\n",
      "[LightGBM] [Info] Start training from score -0.024465\n",
      "validation score: 0.1195\n",
      "test score: 0.1257\n"
     ]
    },
    {
     "name": "stderr",
     "output_type": "stream",
     "text": [
      "/home/noone/Documents/GitHub/ubiquant/.venv/lib/python3.11/site-packages/lightgbm/engine.py:172: UserWarning: Found `num_iterations` in params. Will use it instead of argument\n",
      "  _log_warning(f\"Found `{alias}` in params. Will use it instead of argument\")\n"
     ]
    },
    {
     "name": "stdout",
     "output_type": "stream",
     "text": [
      "[LightGBM] [Info] This is the GPU trainer!!\n",
      "[LightGBM] [Info] Total Bins 76500\n",
      "[LightGBM] [Info] Number of data points in the train set: 2065452, number of used features: 300\n",
      "[LightGBM] [Info] Using requested OpenCL platform 0 device 0\n",
      "[LightGBM] [Info] Using GPU Device: NVIDIA GeForce RTX 3090, Vendor: NVIDIA Corporation\n",
      "[LightGBM] [Info] Compiling OpenCL Kernel with 256 bins...\n",
      "[LightGBM] [Info] GPU programs have been built\n",
      "[LightGBM] [Info] Size of histogram bin entry: 8\n",
      "[LightGBM] [Info] 299 dense feature groups (590.93 MB) transferred to GPU in 0.151779 secs. 1 sparse feature groups\n",
      "[LightGBM] [Info] Start training from score -0.026121\n",
      "validation score: 0.1229\n",
      "test score: 0.116\n"
     ]
    }
   ]
  },
  {
   "cell_type": "code",
   "execution_count": 111,
   "outputs": [
    {
     "name": "stdout",
     "output_type": "stream",
     "text": [
      "average score across folds: 0.1375\n",
      "full test score: 0.128\n",
      "CPU times: user 69.7 ms, sys: 341 ms, total: 411 ms\n",
      "Wall time: 14.2 ms\n"
     ]
    }
   ],
   "source": [
    "%%time\n",
    "# average score\n",
    "avg_score = np.round(np.mean(res_vec), 4)\n",
    "print(f\"average score across folds: {str(avg_score)}\")\n",
    "\n",
    "# test score\n",
    "score = np.round(p(ytest, prv.mean(axis=1))[0], 4)\n",
    "print(f\"full test score: {str(score)}\")"
   ],
   "metadata": {
    "collapsed": false,
    "ExecuteTime": {
     "end_time": "2023-12-18T06:06:44.145928200Z",
     "start_time": "2023-12-18T06:06:44.130138870Z"
    }
   }
  },
  {
   "cell_type": "code",
   "execution_count": 112,
   "outputs": [
    {
     "name": "stderr",
     "output_type": "stream",
     "text": [
      "wandb: WARNING Source type is set to 'repo' but some required information is missing from the environment. A job will not be created from this run. See https://docs.wandb.ai/guides/launch/create-job\n"
     ]
    },
    {
     "data": {
      "text/plain": "VBox(children=(Label(value='0.004 MB of 0.004 MB uploaded\\r'), FloatProgress(value=1.0, max=1.0)))",
      "application/vnd.jupyter.widget-view+json": {
       "version_major": 2,
       "version_minor": 0,
       "model_id": "3616743a4f7d4eda8e7abdf6eee5fbb7"
      }
     },
     "metadata": {},
     "output_type": "display_data"
    },
    {
     "data": {
      "text/plain": "<IPython.core.display.HTML object>",
      "text/html": "<style>\n    table.wandb td:nth-child(1) { padding: 0 10px; text-align: left ; width: auto;} td:nth-child(2) {text-align: left ; width: 100%}\n    .wandb-row { display: flex; flex-direction: row; flex-wrap: wrap; justify-content: flex-start; width: 100% }\n    .wandb-col { display: flex; flex-direction: column; flex-basis: 100%; flex: 1; padding: 10px; }\n    </style>\n<div class=\"wandb-row\"><div class=\"wandb-col\"><h3>Run history:</h3><br/><table class=\"wandb\"><tr><td>epoch</td><td>▂▇▄▂▇▄▁▆▃█▅▃▇▆▄▁▆▃█▅▂▇▅▂▇▄▃█▅▂▇▄▂▆▄▁▆▃█▇</td></tr><tr><td>rmse_training</td><td>█▇██▇██▇█▇▇▇▇▇▇█▇█▇▇▇▆▇█▇▇▇▇▇█▇▇▆▁▄▇▂▄▁▁</td></tr><tr><td>rmse_valid_1</td><td>▅▅▅▆▅▅▆▅▅▅▃▅▅▆█▆▅▃▄▅▆▆█▅▅▅▃▃▆▇▇▆▅▆▅▁▃▂▄▂</td></tr></table><br/></div><div class=\"wandb-col\"><h3>Run summary:</h3><br/><table class=\"wandb\"><tr><td>epoch</td><td>149</td></tr><tr><td>rmse_training</td><td>0.7239</td></tr><tr><td>rmse_valid_1</td><td>0.88525</td></tr></table><br/></div></div>"
     },
     "metadata": {},
     "output_type": "display_data"
    },
    {
     "data": {
      "text/plain": "<IPython.core.display.HTML object>",
      "text/html": " View run <strong style=\"color:#cdcd00\">testing_cv_methods</strong> at: <a href='https://wandb.ai/michael_kingston/ubiquant/runs/dfli2au3' target=\"_blank\">https://wandb.ai/michael_kingston/ubiquant/runs/dfli2au3</a><br/>Synced 5 W&B file(s), 0 media file(s), 0 artifact file(s) and 0 other file(s)"
     },
     "metadata": {},
     "output_type": "display_data"
    },
    {
     "data": {
      "text/plain": "<IPython.core.display.HTML object>",
      "text/html": "Find logs at: <code>./wandb/run-20231218_155917-dfli2au3/logs</code>"
     },
     "metadata": {},
     "output_type": "display_data"
    }
   ],
   "source": [
    "wandb.finish()"
   ],
   "metadata": {
    "collapsed": false,
    "ExecuteTime": {
     "end_time": "2023-12-18T06:06:49.656083030Z",
     "start_time": "2023-12-18T06:06:44.147675331Z"
    }
   }
  },
  {
   "cell_type": "markdown",
   "source": [
    "# Comparison of results\n",
    "\n",
    "| Cross Validation method          | Validation RMSE | Test RMSE |\n",
    "|----------------------------------|-----------------|-----------|\n",
    "| Naive                            | 0.1886          | 0.1291    |\n",
    "| KFold                            | 0.1898          | 0.1351    |\n",
    "| TimeSeriesSplit                  | 0.13            | 0.1175    |\n",
    "| GroupedTimeSeriesSplit           | 0.1182          | 0.1176    |\n",
    "| PurgedGroupTimeSeriesKFold       | 0.0614          | 0.0704    |\n",
    "| Combinatorial Purged Group KFold | ?               | ?         |\n"
   ],
   "metadata": {
    "collapsed": false
   }
  },
  {
   "cell_type": "markdown",
   "source": [
    "## Conclusions\n",
    "This review of time series cross validation techniques should show us that \n",
    "- the temporal component of time series makes cross validation and improving model performance particularly challenging compared with other domains.\n",
    "- experimenting with different cross validation approaches can help reduce overfitting and reduce RMSE (or other metric), while holding all other model components unchanged.\n",
    "\n",
    "## Recommended further reading: \n",
    "- [Forecasting Evaluation for Data Scientists: Common pitfalls and best practices](https://www.arxiv-vanity.com/papers/2203.10716/)"
   ],
   "metadata": {}
  },
  {
   "cell_type": "code",
   "execution_count": 113,
   "outputs": [],
   "source": [
    "# todo: \n",
    "#  average validation and test scores for each model,\n",
    "#  store validation and test scores for each approach in df, \n",
    "#  plot results of each approach, \n",
    "#  logging, \n",
    "#  wandb\n",
    "#  improve the words, images, structure and narrative,"
   ],
   "metadata": {
    "collapsed": false,
    "ExecuteTime": {
     "end_time": "2023-12-18T06:06:49.660998184Z",
     "start_time": "2023-12-18T06:06:49.657333840Z"
    }
   }
  }
 ]
}
